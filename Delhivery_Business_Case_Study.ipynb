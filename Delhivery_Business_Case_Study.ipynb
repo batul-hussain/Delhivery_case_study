{
  "nbformat": 4,
  "nbformat_minor": 0,
  "metadata": {
    "colab": {
      "provenance": [],
      "include_colab_link": true
    },
    "kernelspec": {
      "name": "python3",
      "display_name": "Python 3"
    },
    "language_info": {
      "name": "python"
    }
  },
  "cells": [
    {
      "cell_type": "markdown",
      "metadata": {
        "id": "view-in-github",
        "colab_type": "text"
      },
      "source": [
        "<a href=\"https://colab.research.google.com/github/batul-hussain/Delhivery_case_study/blob/main/Delhivery_Business_Case_Study.ipynb\" target=\"_parent\"><img src=\"https://colab.research.google.com/assets/colab-badge.svg\" alt=\"Open In Colab\"/></a>"
      ]
    },
    {
      "cell_type": "code",
      "execution_count": null,
      "metadata": {
        "id": "4UaBWGbaX1nH"
      },
      "outputs": [],
      "source": [
        "import numpy as np\n",
        "import pandas as pd\n",
        "import matplotlib.pyplot as plt\n",
        "import seaborn as sns\n",
        "import io\n",
        "import statistics\n",
        "import math\n",
        "import scipy.stats as stats\n",
        "from scipy.stats import ttest_ind \n",
        "from scipy.stats import f_oneway"
      ]
    },
    {
      "cell_type": "code",
      "source": [
        "from google.colab import files\n",
        "uploaded = files.upload()"
      ],
      "metadata": {
        "colab": {
          "base_uri": "https://localhost:8080/",
          "height": 75
        },
        "id": "XgdO7EFCYBcE",
        "outputId": "f9be4223-c2eb-48d5-f098-8b9d1c4fa6c0"
      },
      "execution_count": null,
      "outputs": [
        {
          "output_type": "display_data",
          "data": {
            "text/plain": [
              "<IPython.core.display.HTML object>"
            ],
            "text/html": [
              "\n",
              "     <input type=\"file\" id=\"files-ba231fb4-93e3-4c1c-a1a5-95b5f5b79f12\" name=\"files[]\" multiple disabled\n",
              "        style=\"border:none\" />\n",
              "     <output id=\"result-ba231fb4-93e3-4c1c-a1a5-95b5f5b79f12\">\n",
              "      Upload widget is only available when the cell has been executed in the\n",
              "      current browser session. Please rerun this cell to enable.\n",
              "      </output>\n",
              "      <script>// Copyright 2017 Google LLC\n",
              "//\n",
              "// Licensed under the Apache License, Version 2.0 (the \"License\");\n",
              "// you may not use this file except in compliance with the License.\n",
              "// You may obtain a copy of the License at\n",
              "//\n",
              "//      http://www.apache.org/licenses/LICENSE-2.0\n",
              "//\n",
              "// Unless required by applicable law or agreed to in writing, software\n",
              "// distributed under the License is distributed on an \"AS IS\" BASIS,\n",
              "// WITHOUT WARRANTIES OR CONDITIONS OF ANY KIND, either express or implied.\n",
              "// See the License for the specific language governing permissions and\n",
              "// limitations under the License.\n",
              "\n",
              "/**\n",
              " * @fileoverview Helpers for google.colab Python module.\n",
              " */\n",
              "(function(scope) {\n",
              "function span(text, styleAttributes = {}) {\n",
              "  const element = document.createElement('span');\n",
              "  element.textContent = text;\n",
              "  for (const key of Object.keys(styleAttributes)) {\n",
              "    element.style[key] = styleAttributes[key];\n",
              "  }\n",
              "  return element;\n",
              "}\n",
              "\n",
              "// Max number of bytes which will be uploaded at a time.\n",
              "const MAX_PAYLOAD_SIZE = 100 * 1024;\n",
              "\n",
              "function _uploadFiles(inputId, outputId) {\n",
              "  const steps = uploadFilesStep(inputId, outputId);\n",
              "  const outputElement = document.getElementById(outputId);\n",
              "  // Cache steps on the outputElement to make it available for the next call\n",
              "  // to uploadFilesContinue from Python.\n",
              "  outputElement.steps = steps;\n",
              "\n",
              "  return _uploadFilesContinue(outputId);\n",
              "}\n",
              "\n",
              "// This is roughly an async generator (not supported in the browser yet),\n",
              "// where there are multiple asynchronous steps and the Python side is going\n",
              "// to poll for completion of each step.\n",
              "// This uses a Promise to block the python side on completion of each step,\n",
              "// then passes the result of the previous step as the input to the next step.\n",
              "function _uploadFilesContinue(outputId) {\n",
              "  const outputElement = document.getElementById(outputId);\n",
              "  const steps = outputElement.steps;\n",
              "\n",
              "  const next = steps.next(outputElement.lastPromiseValue);\n",
              "  return Promise.resolve(next.value.promise).then((value) => {\n",
              "    // Cache the last promise value to make it available to the next\n",
              "    // step of the generator.\n",
              "    outputElement.lastPromiseValue = value;\n",
              "    return next.value.response;\n",
              "  });\n",
              "}\n",
              "\n",
              "/**\n",
              " * Generator function which is called between each async step of the upload\n",
              " * process.\n",
              " * @param {string} inputId Element ID of the input file picker element.\n",
              " * @param {string} outputId Element ID of the output display.\n",
              " * @return {!Iterable<!Object>} Iterable of next steps.\n",
              " */\n",
              "function* uploadFilesStep(inputId, outputId) {\n",
              "  const inputElement = document.getElementById(inputId);\n",
              "  inputElement.disabled = false;\n",
              "\n",
              "  const outputElement = document.getElementById(outputId);\n",
              "  outputElement.innerHTML = '';\n",
              "\n",
              "  const pickedPromise = new Promise((resolve) => {\n",
              "    inputElement.addEventListener('change', (e) => {\n",
              "      resolve(e.target.files);\n",
              "    });\n",
              "  });\n",
              "\n",
              "  const cancel = document.createElement('button');\n",
              "  inputElement.parentElement.appendChild(cancel);\n",
              "  cancel.textContent = 'Cancel upload';\n",
              "  const cancelPromise = new Promise((resolve) => {\n",
              "    cancel.onclick = () => {\n",
              "      resolve(null);\n",
              "    };\n",
              "  });\n",
              "\n",
              "  // Wait for the user to pick the files.\n",
              "  const files = yield {\n",
              "    promise: Promise.race([pickedPromise, cancelPromise]),\n",
              "    response: {\n",
              "      action: 'starting',\n",
              "    }\n",
              "  };\n",
              "\n",
              "  cancel.remove();\n",
              "\n",
              "  // Disable the input element since further picks are not allowed.\n",
              "  inputElement.disabled = true;\n",
              "\n",
              "  if (!files) {\n",
              "    return {\n",
              "      response: {\n",
              "        action: 'complete',\n",
              "      }\n",
              "    };\n",
              "  }\n",
              "\n",
              "  for (const file of files) {\n",
              "    const li = document.createElement('li');\n",
              "    li.append(span(file.name, {fontWeight: 'bold'}));\n",
              "    li.append(span(\n",
              "        `(${file.type || 'n/a'}) - ${file.size} bytes, ` +\n",
              "        `last modified: ${\n",
              "            file.lastModifiedDate ? file.lastModifiedDate.toLocaleDateString() :\n",
              "                                    'n/a'} - `));\n",
              "    const percent = span('0% done');\n",
              "    li.appendChild(percent);\n",
              "\n",
              "    outputElement.appendChild(li);\n",
              "\n",
              "    const fileDataPromise = new Promise((resolve) => {\n",
              "      const reader = new FileReader();\n",
              "      reader.onload = (e) => {\n",
              "        resolve(e.target.result);\n",
              "      };\n",
              "      reader.readAsArrayBuffer(file);\n",
              "    });\n",
              "    // Wait for the data to be ready.\n",
              "    let fileData = yield {\n",
              "      promise: fileDataPromise,\n",
              "      response: {\n",
              "        action: 'continue',\n",
              "      }\n",
              "    };\n",
              "\n",
              "    // Use a chunked sending to avoid message size limits. See b/62115660.\n",
              "    let position = 0;\n",
              "    do {\n",
              "      const length = Math.min(fileData.byteLength - position, MAX_PAYLOAD_SIZE);\n",
              "      const chunk = new Uint8Array(fileData, position, length);\n",
              "      position += length;\n",
              "\n",
              "      const base64 = btoa(String.fromCharCode.apply(null, chunk));\n",
              "      yield {\n",
              "        response: {\n",
              "          action: 'append',\n",
              "          file: file.name,\n",
              "          data: base64,\n",
              "        },\n",
              "      };\n",
              "\n",
              "      let percentDone = fileData.byteLength === 0 ?\n",
              "          100 :\n",
              "          Math.round((position / fileData.byteLength) * 100);\n",
              "      percent.textContent = `${percentDone}% done`;\n",
              "\n",
              "    } while (position < fileData.byteLength);\n",
              "  }\n",
              "\n",
              "  // All done.\n",
              "  yield {\n",
              "    response: {\n",
              "      action: 'complete',\n",
              "    }\n",
              "  };\n",
              "}\n",
              "\n",
              "scope.google = scope.google || {};\n",
              "scope.google.colab = scope.google.colab || {};\n",
              "scope.google.colab._files = {\n",
              "  _uploadFiles,\n",
              "  _uploadFilesContinue,\n",
              "};\n",
              "})(self);\n",
              "</script> "
            ]
          },
          "metadata": {}
        },
        {
          "output_type": "stream",
          "name": "stdout",
          "text": [
            "Saving delhivery_data.csv to delhivery_data (1).csv\n"
          ]
        }
      ]
    },
    {
      "cell_type": "code",
      "source": [
        "data = pd.read_csv(io.StringIO(uploaded['delhivery_data.csv'].decode('utf-8')))"
      ],
      "metadata": {
        "id": "ht2piCO0i4f3"
      },
      "execution_count": null,
      "outputs": []
    },
    {
      "cell_type": "code",
      "source": [
        "data.head(5)"
      ],
      "metadata": {
        "colab": {
          "base_uri": "https://localhost:8080/",
          "height": 473
        },
        "id": "oRJ1nnOBjD64",
        "outputId": "06e30080-ff29-4eea-eec5-d82c6d5010a6"
      },
      "execution_count": null,
      "outputs": [
        {
          "output_type": "execute_result",
          "data": {
            "text/plain": [
              "       data          trip_creation_time  \\\n",
              "0  training  2018-09-20 02:35:36.476840   \n",
              "1  training  2018-09-20 02:35:36.476840   \n",
              "2  training  2018-09-20 02:35:36.476840   \n",
              "3  training  2018-09-20 02:35:36.476840   \n",
              "4  training  2018-09-20 02:35:36.476840   \n",
              "\n",
              "                                 route_schedule_uuid route_type  \\\n",
              "0  thanos::sroute:eb7bfc78-b351-4c0e-a951-fa3d5c3...    Carting   \n",
              "1  thanos::sroute:eb7bfc78-b351-4c0e-a951-fa3d5c3...    Carting   \n",
              "2  thanos::sroute:eb7bfc78-b351-4c0e-a951-fa3d5c3...    Carting   \n",
              "3  thanos::sroute:eb7bfc78-b351-4c0e-a951-fa3d5c3...    Carting   \n",
              "4  thanos::sroute:eb7bfc78-b351-4c0e-a951-fa3d5c3...    Carting   \n",
              "\n",
              "                 trip_uuid source_center                 source_name  \\\n",
              "0  trip-153741093647649320  IND388121AAA  Anand_VUNagar_DC (Gujarat)   \n",
              "1  trip-153741093647649320  IND388121AAA  Anand_VUNagar_DC (Gujarat)   \n",
              "2  trip-153741093647649320  IND388121AAA  Anand_VUNagar_DC (Gujarat)   \n",
              "3  trip-153741093647649320  IND388121AAA  Anand_VUNagar_DC (Gujarat)   \n",
              "4  trip-153741093647649320  IND388121AAA  Anand_VUNagar_DC (Gujarat)   \n",
              "\n",
              "  destination_center               destination_name  \\\n",
              "0       IND388620AAB  Khambhat_MotvdDPP_D (Gujarat)   \n",
              "1       IND388620AAB  Khambhat_MotvdDPP_D (Gujarat)   \n",
              "2       IND388620AAB  Khambhat_MotvdDPP_D (Gujarat)   \n",
              "3       IND388620AAB  Khambhat_MotvdDPP_D (Gujarat)   \n",
              "4       IND388620AAB  Khambhat_MotvdDPP_D (Gujarat)   \n",
              "\n",
              "                od_start_time  ...            cutoff_timestamp  \\\n",
              "0  2018-09-20 03:21:32.418600  ...         2018-09-20 04:27:55   \n",
              "1  2018-09-20 03:21:32.418600  ...         2018-09-20 04:17:55   \n",
              "2  2018-09-20 03:21:32.418600  ...  2018-09-20 04:01:19.505586   \n",
              "3  2018-09-20 03:21:32.418600  ...         2018-09-20 03:39:57   \n",
              "4  2018-09-20 03:21:32.418600  ...         2018-09-20 03:33:55   \n",
              "\n",
              "   actual_distance_to_destination  actual_time  osrm_time osrm_distance  \\\n",
              "0                       10.435660         14.0       11.0       11.9653   \n",
              "1                       18.936842         24.0       20.0       21.7243   \n",
              "2                       27.637279         40.0       28.0       32.5395   \n",
              "3                       36.118028         62.0       40.0       45.5620   \n",
              "4                       39.386040         68.0       44.0       54.2181   \n",
              "\n",
              "     factor  segment_actual_time  segment_osrm_time  segment_osrm_distance  \\\n",
              "0  1.272727                 14.0               11.0                11.9653   \n",
              "1  1.200000                 10.0                9.0                 9.7590   \n",
              "2  1.428571                 16.0                7.0                10.8152   \n",
              "3  1.550000                 21.0               12.0                13.0224   \n",
              "4  1.545455                  6.0                5.0                 3.9153   \n",
              "\n",
              "   segment_factor  \n",
              "0        1.272727  \n",
              "1        1.111111  \n",
              "2        2.285714  \n",
              "3        1.750000  \n",
              "4        1.200000  \n",
              "\n",
              "[5 rows x 24 columns]"
            ],
            "text/html": [
              "\n",
              "  <div id=\"df-c81f8dfa-c411-49c4-81c4-bd8e6d0ae015\">\n",
              "    <div class=\"colab-df-container\">\n",
              "      <div>\n",
              "<style scoped>\n",
              "    .dataframe tbody tr th:only-of-type {\n",
              "        vertical-align: middle;\n",
              "    }\n",
              "\n",
              "    .dataframe tbody tr th {\n",
              "        vertical-align: top;\n",
              "    }\n",
              "\n",
              "    .dataframe thead th {\n",
              "        text-align: right;\n",
              "    }\n",
              "</style>\n",
              "<table border=\"1\" class=\"dataframe\">\n",
              "  <thead>\n",
              "    <tr style=\"text-align: right;\">\n",
              "      <th></th>\n",
              "      <th>data</th>\n",
              "      <th>trip_creation_time</th>\n",
              "      <th>route_schedule_uuid</th>\n",
              "      <th>route_type</th>\n",
              "      <th>trip_uuid</th>\n",
              "      <th>source_center</th>\n",
              "      <th>source_name</th>\n",
              "      <th>destination_center</th>\n",
              "      <th>destination_name</th>\n",
              "      <th>od_start_time</th>\n",
              "      <th>...</th>\n",
              "      <th>cutoff_timestamp</th>\n",
              "      <th>actual_distance_to_destination</th>\n",
              "      <th>actual_time</th>\n",
              "      <th>osrm_time</th>\n",
              "      <th>osrm_distance</th>\n",
              "      <th>factor</th>\n",
              "      <th>segment_actual_time</th>\n",
              "      <th>segment_osrm_time</th>\n",
              "      <th>segment_osrm_distance</th>\n",
              "      <th>segment_factor</th>\n",
              "    </tr>\n",
              "  </thead>\n",
              "  <tbody>\n",
              "    <tr>\n",
              "      <th>0</th>\n",
              "      <td>training</td>\n",
              "      <td>2018-09-20 02:35:36.476840</td>\n",
              "      <td>thanos::sroute:eb7bfc78-b351-4c0e-a951-fa3d5c3...</td>\n",
              "      <td>Carting</td>\n",
              "      <td>trip-153741093647649320</td>\n",
              "      <td>IND388121AAA</td>\n",
              "      <td>Anand_VUNagar_DC (Gujarat)</td>\n",
              "      <td>IND388620AAB</td>\n",
              "      <td>Khambhat_MotvdDPP_D (Gujarat)</td>\n",
              "      <td>2018-09-20 03:21:32.418600</td>\n",
              "      <td>...</td>\n",
              "      <td>2018-09-20 04:27:55</td>\n",
              "      <td>10.435660</td>\n",
              "      <td>14.0</td>\n",
              "      <td>11.0</td>\n",
              "      <td>11.9653</td>\n",
              "      <td>1.272727</td>\n",
              "      <td>14.0</td>\n",
              "      <td>11.0</td>\n",
              "      <td>11.9653</td>\n",
              "      <td>1.272727</td>\n",
              "    </tr>\n",
              "    <tr>\n",
              "      <th>1</th>\n",
              "      <td>training</td>\n",
              "      <td>2018-09-20 02:35:36.476840</td>\n",
              "      <td>thanos::sroute:eb7bfc78-b351-4c0e-a951-fa3d5c3...</td>\n",
              "      <td>Carting</td>\n",
              "      <td>trip-153741093647649320</td>\n",
              "      <td>IND388121AAA</td>\n",
              "      <td>Anand_VUNagar_DC (Gujarat)</td>\n",
              "      <td>IND388620AAB</td>\n",
              "      <td>Khambhat_MotvdDPP_D (Gujarat)</td>\n",
              "      <td>2018-09-20 03:21:32.418600</td>\n",
              "      <td>...</td>\n",
              "      <td>2018-09-20 04:17:55</td>\n",
              "      <td>18.936842</td>\n",
              "      <td>24.0</td>\n",
              "      <td>20.0</td>\n",
              "      <td>21.7243</td>\n",
              "      <td>1.200000</td>\n",
              "      <td>10.0</td>\n",
              "      <td>9.0</td>\n",
              "      <td>9.7590</td>\n",
              "      <td>1.111111</td>\n",
              "    </tr>\n",
              "    <tr>\n",
              "      <th>2</th>\n",
              "      <td>training</td>\n",
              "      <td>2018-09-20 02:35:36.476840</td>\n",
              "      <td>thanos::sroute:eb7bfc78-b351-4c0e-a951-fa3d5c3...</td>\n",
              "      <td>Carting</td>\n",
              "      <td>trip-153741093647649320</td>\n",
              "      <td>IND388121AAA</td>\n",
              "      <td>Anand_VUNagar_DC (Gujarat)</td>\n",
              "      <td>IND388620AAB</td>\n",
              "      <td>Khambhat_MotvdDPP_D (Gujarat)</td>\n",
              "      <td>2018-09-20 03:21:32.418600</td>\n",
              "      <td>...</td>\n",
              "      <td>2018-09-20 04:01:19.505586</td>\n",
              "      <td>27.637279</td>\n",
              "      <td>40.0</td>\n",
              "      <td>28.0</td>\n",
              "      <td>32.5395</td>\n",
              "      <td>1.428571</td>\n",
              "      <td>16.0</td>\n",
              "      <td>7.0</td>\n",
              "      <td>10.8152</td>\n",
              "      <td>2.285714</td>\n",
              "    </tr>\n",
              "    <tr>\n",
              "      <th>3</th>\n",
              "      <td>training</td>\n",
              "      <td>2018-09-20 02:35:36.476840</td>\n",
              "      <td>thanos::sroute:eb7bfc78-b351-4c0e-a951-fa3d5c3...</td>\n",
              "      <td>Carting</td>\n",
              "      <td>trip-153741093647649320</td>\n",
              "      <td>IND388121AAA</td>\n",
              "      <td>Anand_VUNagar_DC (Gujarat)</td>\n",
              "      <td>IND388620AAB</td>\n",
              "      <td>Khambhat_MotvdDPP_D (Gujarat)</td>\n",
              "      <td>2018-09-20 03:21:32.418600</td>\n",
              "      <td>...</td>\n",
              "      <td>2018-09-20 03:39:57</td>\n",
              "      <td>36.118028</td>\n",
              "      <td>62.0</td>\n",
              "      <td>40.0</td>\n",
              "      <td>45.5620</td>\n",
              "      <td>1.550000</td>\n",
              "      <td>21.0</td>\n",
              "      <td>12.0</td>\n",
              "      <td>13.0224</td>\n",
              "      <td>1.750000</td>\n",
              "    </tr>\n",
              "    <tr>\n",
              "      <th>4</th>\n",
              "      <td>training</td>\n",
              "      <td>2018-09-20 02:35:36.476840</td>\n",
              "      <td>thanos::sroute:eb7bfc78-b351-4c0e-a951-fa3d5c3...</td>\n",
              "      <td>Carting</td>\n",
              "      <td>trip-153741093647649320</td>\n",
              "      <td>IND388121AAA</td>\n",
              "      <td>Anand_VUNagar_DC (Gujarat)</td>\n",
              "      <td>IND388620AAB</td>\n",
              "      <td>Khambhat_MotvdDPP_D (Gujarat)</td>\n",
              "      <td>2018-09-20 03:21:32.418600</td>\n",
              "      <td>...</td>\n",
              "      <td>2018-09-20 03:33:55</td>\n",
              "      <td>39.386040</td>\n",
              "      <td>68.0</td>\n",
              "      <td>44.0</td>\n",
              "      <td>54.2181</td>\n",
              "      <td>1.545455</td>\n",
              "      <td>6.0</td>\n",
              "      <td>5.0</td>\n",
              "      <td>3.9153</td>\n",
              "      <td>1.200000</td>\n",
              "    </tr>\n",
              "  </tbody>\n",
              "</table>\n",
              "<p>5 rows × 24 columns</p>\n",
              "</div>\n",
              "      <button class=\"colab-df-convert\" onclick=\"convertToInteractive('df-c81f8dfa-c411-49c4-81c4-bd8e6d0ae015')\"\n",
              "              title=\"Convert this dataframe to an interactive table.\"\n",
              "              style=\"display:none;\">\n",
              "        \n",
              "  <svg xmlns=\"http://www.w3.org/2000/svg\" height=\"24px\"viewBox=\"0 0 24 24\"\n",
              "       width=\"24px\">\n",
              "    <path d=\"M0 0h24v24H0V0z\" fill=\"none\"/>\n",
              "    <path d=\"M18.56 5.44l.94 2.06.94-2.06 2.06-.94-2.06-.94-.94-2.06-.94 2.06-2.06.94zm-11 1L8.5 8.5l.94-2.06 2.06-.94-2.06-.94L8.5 2.5l-.94 2.06-2.06.94zm10 10l.94 2.06.94-2.06 2.06-.94-2.06-.94-.94-2.06-.94 2.06-2.06.94z\"/><path d=\"M17.41 7.96l-1.37-1.37c-.4-.4-.92-.59-1.43-.59-.52 0-1.04.2-1.43.59L10.3 9.45l-7.72 7.72c-.78.78-.78 2.05 0 2.83L4 21.41c.39.39.9.59 1.41.59.51 0 1.02-.2 1.41-.59l7.78-7.78 2.81-2.81c.8-.78.8-2.07 0-2.86zM5.41 20L4 18.59l7.72-7.72 1.47 1.35L5.41 20z\"/>\n",
              "  </svg>\n",
              "      </button>\n",
              "      \n",
              "  <style>\n",
              "    .colab-df-container {\n",
              "      display:flex;\n",
              "      flex-wrap:wrap;\n",
              "      gap: 12px;\n",
              "    }\n",
              "\n",
              "    .colab-df-convert {\n",
              "      background-color: #E8F0FE;\n",
              "      border: none;\n",
              "      border-radius: 50%;\n",
              "      cursor: pointer;\n",
              "      display: none;\n",
              "      fill: #1967D2;\n",
              "      height: 32px;\n",
              "      padding: 0 0 0 0;\n",
              "      width: 32px;\n",
              "    }\n",
              "\n",
              "    .colab-df-convert:hover {\n",
              "      background-color: #E2EBFA;\n",
              "      box-shadow: 0px 1px 2px rgba(60, 64, 67, 0.3), 0px 1px 3px 1px rgba(60, 64, 67, 0.15);\n",
              "      fill: #174EA6;\n",
              "    }\n",
              "\n",
              "    [theme=dark] .colab-df-convert {\n",
              "      background-color: #3B4455;\n",
              "      fill: #D2E3FC;\n",
              "    }\n",
              "\n",
              "    [theme=dark] .colab-df-convert:hover {\n",
              "      background-color: #434B5C;\n",
              "      box-shadow: 0px 1px 3px 1px rgba(0, 0, 0, 0.15);\n",
              "      filter: drop-shadow(0px 1px 2px rgba(0, 0, 0, 0.3));\n",
              "      fill: #FFFFFF;\n",
              "    }\n",
              "  </style>\n",
              "\n",
              "      <script>\n",
              "        const buttonEl =\n",
              "          document.querySelector('#df-c81f8dfa-c411-49c4-81c4-bd8e6d0ae015 button.colab-df-convert');\n",
              "        buttonEl.style.display =\n",
              "          google.colab.kernel.accessAllowed ? 'block' : 'none';\n",
              "\n",
              "        async function convertToInteractive(key) {\n",
              "          const element = document.querySelector('#df-c81f8dfa-c411-49c4-81c4-bd8e6d0ae015');\n",
              "          const dataTable =\n",
              "            await google.colab.kernel.invokeFunction('convertToInteractive',\n",
              "                                                     [key], {});\n",
              "          if (!dataTable) return;\n",
              "\n",
              "          const docLinkHtml = 'Like what you see? Visit the ' +\n",
              "            '<a target=\"_blank\" href=https://colab.research.google.com/notebooks/data_table.ipynb>data table notebook</a>'\n",
              "            + ' to learn more about interactive tables.';\n",
              "          element.innerHTML = '';\n",
              "          dataTable['output_type'] = 'display_data';\n",
              "          await google.colab.output.renderOutput(dataTable, element);\n",
              "          const docLink = document.createElement('div');\n",
              "          docLink.innerHTML = docLinkHtml;\n",
              "          element.appendChild(docLink);\n",
              "        }\n",
              "      </script>\n",
              "    </div>\n",
              "  </div>\n",
              "  "
            ]
          },
          "metadata": {},
          "execution_count": 109
        }
      ]
    },
    {
      "cell_type": "code",
      "source": [
        "#Drop unknown fields\n",
        "data.drop(['is_cutoff','cutoff_factor','cutoff_timestamp','factor','segment_factor'],axis = 1,inplace=True)\n"
      ],
      "metadata": {
        "id": "v0-BQ32pmyyR"
      },
      "execution_count": null,
      "outputs": []
    },
    {
      "cell_type": "code",
      "source": [
        "#Convert object to datetime d type for analysis\n",
        "data['trip_creation_time'] = pd.to_datetime(data['trip_creation_time'])\n",
        "data['od_start_time'] = pd.to_datetime(data['od_start_time'])\n",
        "data['od_end_time'] = pd.to_datetime(data['od_end_time'])"
      ],
      "metadata": {
        "id": "ofXdpZyytdnb"
      },
      "execution_count": null,
      "outputs": []
    },
    {
      "cell_type": "code",
      "source": [
        "data.info()"
      ],
      "metadata": {
        "colab": {
          "base_uri": "https://localhost:8080/"
        },
        "id": "-SH_wTN15aJy",
        "outputId": "ee2c7d9f-72d0-48ab-fdc1-eba9a02911fd"
      },
      "execution_count": null,
      "outputs": [
        {
          "output_type": "stream",
          "name": "stdout",
          "text": [
            "<class 'pandas.core.frame.DataFrame'>\n",
            "RangeIndex: 144867 entries, 0 to 144866\n",
            "Data columns (total 19 columns):\n",
            " #   Column                          Non-Null Count   Dtype         \n",
            "---  ------                          --------------   -----         \n",
            " 0   data                            144867 non-null  object        \n",
            " 1   trip_creation_time              144867 non-null  datetime64[ns]\n",
            " 2   route_schedule_uuid             144867 non-null  object        \n",
            " 3   route_type                      144867 non-null  object        \n",
            " 4   trip_uuid                       144867 non-null  object        \n",
            " 5   source_center                   144867 non-null  object        \n",
            " 6   source_name                     144574 non-null  object        \n",
            " 7   destination_center              144867 non-null  object        \n",
            " 8   destination_name                144606 non-null  object        \n",
            " 9   od_start_time                   144867 non-null  datetime64[ns]\n",
            " 10  od_end_time                     144867 non-null  datetime64[ns]\n",
            " 11  start_scan_to_end_scan          144867 non-null  float64       \n",
            " 12  actual_distance_to_destination  144867 non-null  float64       \n",
            " 13  actual_time                     144867 non-null  float64       \n",
            " 14  osrm_time                       144867 non-null  float64       \n",
            " 15  osrm_distance                   144867 non-null  float64       \n",
            " 16  segment_actual_time             144867 non-null  float64       \n",
            " 17  segment_osrm_time               144867 non-null  float64       \n",
            " 18  segment_osrm_distance           144867 non-null  float64       \n",
            "dtypes: datetime64[ns](3), float64(8), object(8)\n",
            "memory usage: 21.0+ MB\n"
          ]
        }
      ]
    },
    {
      "cell_type": "code",
      "source": [
        "data.describe()"
      ],
      "metadata": {
        "colab": {
          "base_uri": "https://localhost:8080/",
          "height": 364
        },
        "id": "d7MjBOXduwaP",
        "outputId": "405a02bf-3b10-4dcb-db9e-2764ccc3f88f"
      },
      "execution_count": null,
      "outputs": [
        {
          "output_type": "execute_result",
          "data": {
            "text/plain": [
              "       start_scan_to_end_scan  actual_distance_to_destination    actual_time  \\\n",
              "count           144867.000000                   144867.000000  144867.000000   \n",
              "mean               961.262986                      234.073372     416.927527   \n",
              "std               1037.012769                      344.990009     598.103621   \n",
              "min                 20.000000                        9.000045       9.000000   \n",
              "25%                161.000000                       23.355874      51.000000   \n",
              "50%                449.000000                       66.126571     132.000000   \n",
              "75%               1634.000000                      286.708875     513.000000   \n",
              "max               7898.000000                     1927.447705    4532.000000   \n",
              "\n",
              "           osrm_time  osrm_distance  segment_actual_time  segment_osrm_time  \\\n",
              "count  144867.000000  144867.000000        144867.000000      144867.000000   \n",
              "mean      213.868272     284.771297            36.196111          18.507548   \n",
              "std       308.011085     421.119294            53.571158          14.775960   \n",
              "min         6.000000       9.008200          -244.000000           0.000000   \n",
              "25%        27.000000      29.914700            20.000000          11.000000   \n",
              "50%        64.000000      78.525800            29.000000          17.000000   \n",
              "75%       257.000000     343.193250            40.000000          22.000000   \n",
              "max      1686.000000    2326.199100          3051.000000        1611.000000   \n",
              "\n",
              "       segment_osrm_distance  \n",
              "count           144867.00000  \n",
              "mean                22.82902  \n",
              "std                 17.86066  \n",
              "min                  0.00000  \n",
              "25%                 12.07010  \n",
              "50%                 23.51300  \n",
              "75%                 27.81325  \n",
              "max               2191.40370  "
            ],
            "text/html": [
              "\n",
              "  <div id=\"df-584d9205-ebfe-4892-a163-c43dd5f8235e\">\n",
              "    <div class=\"colab-df-container\">\n",
              "      <div>\n",
              "<style scoped>\n",
              "    .dataframe tbody tr th:only-of-type {\n",
              "        vertical-align: middle;\n",
              "    }\n",
              "\n",
              "    .dataframe tbody tr th {\n",
              "        vertical-align: top;\n",
              "    }\n",
              "\n",
              "    .dataframe thead th {\n",
              "        text-align: right;\n",
              "    }\n",
              "</style>\n",
              "<table border=\"1\" class=\"dataframe\">\n",
              "  <thead>\n",
              "    <tr style=\"text-align: right;\">\n",
              "      <th></th>\n",
              "      <th>start_scan_to_end_scan</th>\n",
              "      <th>actual_distance_to_destination</th>\n",
              "      <th>actual_time</th>\n",
              "      <th>osrm_time</th>\n",
              "      <th>osrm_distance</th>\n",
              "      <th>segment_actual_time</th>\n",
              "      <th>segment_osrm_time</th>\n",
              "      <th>segment_osrm_distance</th>\n",
              "    </tr>\n",
              "  </thead>\n",
              "  <tbody>\n",
              "    <tr>\n",
              "      <th>count</th>\n",
              "      <td>144867.000000</td>\n",
              "      <td>144867.000000</td>\n",
              "      <td>144867.000000</td>\n",
              "      <td>144867.000000</td>\n",
              "      <td>144867.000000</td>\n",
              "      <td>144867.000000</td>\n",
              "      <td>144867.000000</td>\n",
              "      <td>144867.00000</td>\n",
              "    </tr>\n",
              "    <tr>\n",
              "      <th>mean</th>\n",
              "      <td>961.262986</td>\n",
              "      <td>234.073372</td>\n",
              "      <td>416.927527</td>\n",
              "      <td>213.868272</td>\n",
              "      <td>284.771297</td>\n",
              "      <td>36.196111</td>\n",
              "      <td>18.507548</td>\n",
              "      <td>22.82902</td>\n",
              "    </tr>\n",
              "    <tr>\n",
              "      <th>std</th>\n",
              "      <td>1037.012769</td>\n",
              "      <td>344.990009</td>\n",
              "      <td>598.103621</td>\n",
              "      <td>308.011085</td>\n",
              "      <td>421.119294</td>\n",
              "      <td>53.571158</td>\n",
              "      <td>14.775960</td>\n",
              "      <td>17.86066</td>\n",
              "    </tr>\n",
              "    <tr>\n",
              "      <th>min</th>\n",
              "      <td>20.000000</td>\n",
              "      <td>9.000045</td>\n",
              "      <td>9.000000</td>\n",
              "      <td>6.000000</td>\n",
              "      <td>9.008200</td>\n",
              "      <td>-244.000000</td>\n",
              "      <td>0.000000</td>\n",
              "      <td>0.00000</td>\n",
              "    </tr>\n",
              "    <tr>\n",
              "      <th>25%</th>\n",
              "      <td>161.000000</td>\n",
              "      <td>23.355874</td>\n",
              "      <td>51.000000</td>\n",
              "      <td>27.000000</td>\n",
              "      <td>29.914700</td>\n",
              "      <td>20.000000</td>\n",
              "      <td>11.000000</td>\n",
              "      <td>12.07010</td>\n",
              "    </tr>\n",
              "    <tr>\n",
              "      <th>50%</th>\n",
              "      <td>449.000000</td>\n",
              "      <td>66.126571</td>\n",
              "      <td>132.000000</td>\n",
              "      <td>64.000000</td>\n",
              "      <td>78.525800</td>\n",
              "      <td>29.000000</td>\n",
              "      <td>17.000000</td>\n",
              "      <td>23.51300</td>\n",
              "    </tr>\n",
              "    <tr>\n",
              "      <th>75%</th>\n",
              "      <td>1634.000000</td>\n",
              "      <td>286.708875</td>\n",
              "      <td>513.000000</td>\n",
              "      <td>257.000000</td>\n",
              "      <td>343.193250</td>\n",
              "      <td>40.000000</td>\n",
              "      <td>22.000000</td>\n",
              "      <td>27.81325</td>\n",
              "    </tr>\n",
              "    <tr>\n",
              "      <th>max</th>\n",
              "      <td>7898.000000</td>\n",
              "      <td>1927.447705</td>\n",
              "      <td>4532.000000</td>\n",
              "      <td>1686.000000</td>\n",
              "      <td>2326.199100</td>\n",
              "      <td>3051.000000</td>\n",
              "      <td>1611.000000</td>\n",
              "      <td>2191.40370</td>\n",
              "    </tr>\n",
              "  </tbody>\n",
              "</table>\n",
              "</div>\n",
              "      <button class=\"colab-df-convert\" onclick=\"convertToInteractive('df-584d9205-ebfe-4892-a163-c43dd5f8235e')\"\n",
              "              title=\"Convert this dataframe to an interactive table.\"\n",
              "              style=\"display:none;\">\n",
              "        \n",
              "  <svg xmlns=\"http://www.w3.org/2000/svg\" height=\"24px\"viewBox=\"0 0 24 24\"\n",
              "       width=\"24px\">\n",
              "    <path d=\"M0 0h24v24H0V0z\" fill=\"none\"/>\n",
              "    <path d=\"M18.56 5.44l.94 2.06.94-2.06 2.06-.94-2.06-.94-.94-2.06-.94 2.06-2.06.94zm-11 1L8.5 8.5l.94-2.06 2.06-.94-2.06-.94L8.5 2.5l-.94 2.06-2.06.94zm10 10l.94 2.06.94-2.06 2.06-.94-2.06-.94-.94-2.06-.94 2.06-2.06.94z\"/><path d=\"M17.41 7.96l-1.37-1.37c-.4-.4-.92-.59-1.43-.59-.52 0-1.04.2-1.43.59L10.3 9.45l-7.72 7.72c-.78.78-.78 2.05 0 2.83L4 21.41c.39.39.9.59 1.41.59.51 0 1.02-.2 1.41-.59l7.78-7.78 2.81-2.81c.8-.78.8-2.07 0-2.86zM5.41 20L4 18.59l7.72-7.72 1.47 1.35L5.41 20z\"/>\n",
              "  </svg>\n",
              "      </button>\n",
              "      \n",
              "  <style>\n",
              "    .colab-df-container {\n",
              "      display:flex;\n",
              "      flex-wrap:wrap;\n",
              "      gap: 12px;\n",
              "    }\n",
              "\n",
              "    .colab-df-convert {\n",
              "      background-color: #E8F0FE;\n",
              "      border: none;\n",
              "      border-radius: 50%;\n",
              "      cursor: pointer;\n",
              "      display: none;\n",
              "      fill: #1967D2;\n",
              "      height: 32px;\n",
              "      padding: 0 0 0 0;\n",
              "      width: 32px;\n",
              "    }\n",
              "\n",
              "    .colab-df-convert:hover {\n",
              "      background-color: #E2EBFA;\n",
              "      box-shadow: 0px 1px 2px rgba(60, 64, 67, 0.3), 0px 1px 3px 1px rgba(60, 64, 67, 0.15);\n",
              "      fill: #174EA6;\n",
              "    }\n",
              "\n",
              "    [theme=dark] .colab-df-convert {\n",
              "      background-color: #3B4455;\n",
              "      fill: #D2E3FC;\n",
              "    }\n",
              "\n",
              "    [theme=dark] .colab-df-convert:hover {\n",
              "      background-color: #434B5C;\n",
              "      box-shadow: 0px 1px 3px 1px rgba(0, 0, 0, 0.15);\n",
              "      filter: drop-shadow(0px 1px 2px rgba(0, 0, 0, 0.3));\n",
              "      fill: #FFFFFF;\n",
              "    }\n",
              "  </style>\n",
              "\n",
              "      <script>\n",
              "        const buttonEl =\n",
              "          document.querySelector('#df-584d9205-ebfe-4892-a163-c43dd5f8235e button.colab-df-convert');\n",
              "        buttonEl.style.display =\n",
              "          google.colab.kernel.accessAllowed ? 'block' : 'none';\n",
              "\n",
              "        async function convertToInteractive(key) {\n",
              "          const element = document.querySelector('#df-584d9205-ebfe-4892-a163-c43dd5f8235e');\n",
              "          const dataTable =\n",
              "            await google.colab.kernel.invokeFunction('convertToInteractive',\n",
              "                                                     [key], {});\n",
              "          if (!dataTable) return;\n",
              "\n",
              "          const docLinkHtml = 'Like what you see? Visit the ' +\n",
              "            '<a target=\"_blank\" href=https://colab.research.google.com/notebooks/data_table.ipynb>data table notebook</a>'\n",
              "            + ' to learn more about interactive tables.';\n",
              "          element.innerHTML = '';\n",
              "          dataTable['output_type'] = 'display_data';\n",
              "          await google.colab.output.renderOutput(dataTable, element);\n",
              "          const docLink = document.createElement('div');\n",
              "          docLink.innerHTML = docLinkHtml;\n",
              "          element.appendChild(docLink);\n",
              "        }\n",
              "      </script>\n",
              "    </div>\n",
              "  </div>\n",
              "  "
            ]
          },
          "metadata": {},
          "execution_count": 113
        }
      ]
    },
    {
      "cell_type": "code",
      "source": [
        "data.describe(include = object)"
      ],
      "metadata": {
        "colab": {
          "base_uri": "https://localhost:8080/",
          "height": 256
        },
        "id": "qvdRxWHYvW9j",
        "outputId": "1481389a-5473-487f-f047-247f1a04efd6"
      },
      "execution_count": null,
      "outputs": [
        {
          "output_type": "execute_result",
          "data": {
            "text/plain": [
              "            data                                route_schedule_uuid  \\\n",
              "count     144867                                             144867   \n",
              "unique         2                                               1504   \n",
              "top     training  thanos::sroute:4029a8a2-6c74-4b7e-a6d8-f9e069f...   \n",
              "freq      104858                                               1812   \n",
              "\n",
              "       route_type                trip_uuid source_center  \\\n",
              "count      144867                   144867        144867   \n",
              "unique          2                    14817          1508   \n",
              "top           FTL  trip-153811219535896559  IND000000ACB   \n",
              "freq        99660                      101         23347   \n",
              "\n",
              "                          source_name destination_center  \\\n",
              "count                          144574             144867   \n",
              "unique                           1498               1481   \n",
              "top     Gurgaon_Bilaspur_HB (Haryana)       IND000000ACB   \n",
              "freq                            23347              15192   \n",
              "\n",
              "                     destination_name  \n",
              "count                          144606  \n",
              "unique                           1468  \n",
              "top     Gurgaon_Bilaspur_HB (Haryana)  \n",
              "freq                            15192  "
            ],
            "text/html": [
              "\n",
              "  <div id=\"df-912093bc-1581-4598-b433-b88f74de8e59\">\n",
              "    <div class=\"colab-df-container\">\n",
              "      <div>\n",
              "<style scoped>\n",
              "    .dataframe tbody tr th:only-of-type {\n",
              "        vertical-align: middle;\n",
              "    }\n",
              "\n",
              "    .dataframe tbody tr th {\n",
              "        vertical-align: top;\n",
              "    }\n",
              "\n",
              "    .dataframe thead th {\n",
              "        text-align: right;\n",
              "    }\n",
              "</style>\n",
              "<table border=\"1\" class=\"dataframe\">\n",
              "  <thead>\n",
              "    <tr style=\"text-align: right;\">\n",
              "      <th></th>\n",
              "      <th>data</th>\n",
              "      <th>route_schedule_uuid</th>\n",
              "      <th>route_type</th>\n",
              "      <th>trip_uuid</th>\n",
              "      <th>source_center</th>\n",
              "      <th>source_name</th>\n",
              "      <th>destination_center</th>\n",
              "      <th>destination_name</th>\n",
              "    </tr>\n",
              "  </thead>\n",
              "  <tbody>\n",
              "    <tr>\n",
              "      <th>count</th>\n",
              "      <td>144867</td>\n",
              "      <td>144867</td>\n",
              "      <td>144867</td>\n",
              "      <td>144867</td>\n",
              "      <td>144867</td>\n",
              "      <td>144574</td>\n",
              "      <td>144867</td>\n",
              "      <td>144606</td>\n",
              "    </tr>\n",
              "    <tr>\n",
              "      <th>unique</th>\n",
              "      <td>2</td>\n",
              "      <td>1504</td>\n",
              "      <td>2</td>\n",
              "      <td>14817</td>\n",
              "      <td>1508</td>\n",
              "      <td>1498</td>\n",
              "      <td>1481</td>\n",
              "      <td>1468</td>\n",
              "    </tr>\n",
              "    <tr>\n",
              "      <th>top</th>\n",
              "      <td>training</td>\n",
              "      <td>thanos::sroute:4029a8a2-6c74-4b7e-a6d8-f9e069f...</td>\n",
              "      <td>FTL</td>\n",
              "      <td>trip-153811219535896559</td>\n",
              "      <td>IND000000ACB</td>\n",
              "      <td>Gurgaon_Bilaspur_HB (Haryana)</td>\n",
              "      <td>IND000000ACB</td>\n",
              "      <td>Gurgaon_Bilaspur_HB (Haryana)</td>\n",
              "    </tr>\n",
              "    <tr>\n",
              "      <th>freq</th>\n",
              "      <td>104858</td>\n",
              "      <td>1812</td>\n",
              "      <td>99660</td>\n",
              "      <td>101</td>\n",
              "      <td>23347</td>\n",
              "      <td>23347</td>\n",
              "      <td>15192</td>\n",
              "      <td>15192</td>\n",
              "    </tr>\n",
              "  </tbody>\n",
              "</table>\n",
              "</div>\n",
              "      <button class=\"colab-df-convert\" onclick=\"convertToInteractive('df-912093bc-1581-4598-b433-b88f74de8e59')\"\n",
              "              title=\"Convert this dataframe to an interactive table.\"\n",
              "              style=\"display:none;\">\n",
              "        \n",
              "  <svg xmlns=\"http://www.w3.org/2000/svg\" height=\"24px\"viewBox=\"0 0 24 24\"\n",
              "       width=\"24px\">\n",
              "    <path d=\"M0 0h24v24H0V0z\" fill=\"none\"/>\n",
              "    <path d=\"M18.56 5.44l.94 2.06.94-2.06 2.06-.94-2.06-.94-.94-2.06-.94 2.06-2.06.94zm-11 1L8.5 8.5l.94-2.06 2.06-.94-2.06-.94L8.5 2.5l-.94 2.06-2.06.94zm10 10l.94 2.06.94-2.06 2.06-.94-2.06-.94-.94-2.06-.94 2.06-2.06.94z\"/><path d=\"M17.41 7.96l-1.37-1.37c-.4-.4-.92-.59-1.43-.59-.52 0-1.04.2-1.43.59L10.3 9.45l-7.72 7.72c-.78.78-.78 2.05 0 2.83L4 21.41c.39.39.9.59 1.41.59.51 0 1.02-.2 1.41-.59l7.78-7.78 2.81-2.81c.8-.78.8-2.07 0-2.86zM5.41 20L4 18.59l7.72-7.72 1.47 1.35L5.41 20z\"/>\n",
              "  </svg>\n",
              "      </button>\n",
              "      \n",
              "  <style>\n",
              "    .colab-df-container {\n",
              "      display:flex;\n",
              "      flex-wrap:wrap;\n",
              "      gap: 12px;\n",
              "    }\n",
              "\n",
              "    .colab-df-convert {\n",
              "      background-color: #E8F0FE;\n",
              "      border: none;\n",
              "      border-radius: 50%;\n",
              "      cursor: pointer;\n",
              "      display: none;\n",
              "      fill: #1967D2;\n",
              "      height: 32px;\n",
              "      padding: 0 0 0 0;\n",
              "      width: 32px;\n",
              "    }\n",
              "\n",
              "    .colab-df-convert:hover {\n",
              "      background-color: #E2EBFA;\n",
              "      box-shadow: 0px 1px 2px rgba(60, 64, 67, 0.3), 0px 1px 3px 1px rgba(60, 64, 67, 0.15);\n",
              "      fill: #174EA6;\n",
              "    }\n",
              "\n",
              "    [theme=dark] .colab-df-convert {\n",
              "      background-color: #3B4455;\n",
              "      fill: #D2E3FC;\n",
              "    }\n",
              "\n",
              "    [theme=dark] .colab-df-convert:hover {\n",
              "      background-color: #434B5C;\n",
              "      box-shadow: 0px 1px 3px 1px rgba(0, 0, 0, 0.15);\n",
              "      filter: drop-shadow(0px 1px 2px rgba(0, 0, 0, 0.3));\n",
              "      fill: #FFFFFF;\n",
              "    }\n",
              "  </style>\n",
              "\n",
              "      <script>\n",
              "        const buttonEl =\n",
              "          document.querySelector('#df-912093bc-1581-4598-b433-b88f74de8e59 button.colab-df-convert');\n",
              "        buttonEl.style.display =\n",
              "          google.colab.kernel.accessAllowed ? 'block' : 'none';\n",
              "\n",
              "        async function convertToInteractive(key) {\n",
              "          const element = document.querySelector('#df-912093bc-1581-4598-b433-b88f74de8e59');\n",
              "          const dataTable =\n",
              "            await google.colab.kernel.invokeFunction('convertToInteractive',\n",
              "                                                     [key], {});\n",
              "          if (!dataTable) return;\n",
              "\n",
              "          const docLinkHtml = 'Like what you see? Visit the ' +\n",
              "            '<a target=\"_blank\" href=https://colab.research.google.com/notebooks/data_table.ipynb>data table notebook</a>'\n",
              "            + ' to learn more about interactive tables.';\n",
              "          element.innerHTML = '';\n",
              "          dataTable['output_type'] = 'display_data';\n",
              "          await google.colab.output.renderOutput(dataTable, element);\n",
              "          const docLink = document.createElement('div');\n",
              "          docLink.innerHTML = docLinkHtml;\n",
              "          element.appendChild(docLink);\n",
              "        }\n",
              "      </script>\n",
              "    </div>\n",
              "  </div>\n",
              "  "
            ]
          },
          "metadata": {},
          "execution_count": 114
        }
      ]
    },
    {
      "cell_type": "code",
      "source": [
        "data.nunique()"
      ],
      "metadata": {
        "colab": {
          "base_uri": "https://localhost:8080/"
        },
        "id": "9x-unFfLvn-t",
        "outputId": "04f1cf4f-81fb-4b89-b770-ae5107d36b82"
      },
      "execution_count": null,
      "outputs": [
        {
          "output_type": "execute_result",
          "data": {
            "text/plain": [
              "data                                   2\n",
              "trip_creation_time                 14817\n",
              "route_schedule_uuid                 1504\n",
              "route_type                             2\n",
              "trip_uuid                          14817\n",
              "source_center                       1508\n",
              "source_name                         1498\n",
              "destination_center                  1481\n",
              "destination_name                    1468\n",
              "od_start_time                      26369\n",
              "od_end_time                        26369\n",
              "start_scan_to_end_scan              1915\n",
              "actual_distance_to_destination    144515\n",
              "actual_time                         3182\n",
              "osrm_time                           1531\n",
              "osrm_distance                     138046\n",
              "segment_actual_time                  747\n",
              "segment_osrm_time                    214\n",
              "segment_osrm_distance             113799\n",
              "dtype: int64"
            ]
          },
          "metadata": {},
          "execution_count": 115
        }
      ]
    },
    {
      "cell_type": "code",
      "source": [
        "#Univariate Analysis"
      ],
      "metadata": {
        "id": "rhlnQKim3t4P"
      },
      "execution_count": null,
      "outputs": []
    },
    {
      "cell_type": "code",
      "source": [
        "data['data'].value_counts(normalize = True)"
      ],
      "metadata": {
        "colab": {
          "base_uri": "https://localhost:8080/"
        },
        "id": "0kPeI9S227Py",
        "outputId": "f554922d-474e-4431-cbc8-db3f10a5d371"
      },
      "execution_count": null,
      "outputs": [
        {
          "output_type": "execute_result",
          "data": {
            "text/plain": [
              "training    0.723823\n",
              "test        0.276177\n",
              "Name: data, dtype: float64"
            ]
          },
          "metadata": {},
          "execution_count": 117
        }
      ]
    },
    {
      "cell_type": "code",
      "source": [
        "data['route_type'].value_counts(normalize = True)"
      ],
      "metadata": {
        "colab": {
          "base_uri": "https://localhost:8080/"
        },
        "id": "2DMY4yk33WSc",
        "outputId": "a2659579-90f6-40be-a6e6-248593549835"
      },
      "execution_count": null,
      "outputs": [
        {
          "output_type": "execute_result",
          "data": {
            "text/plain": [
              "FTL        0.687941\n",
              "Carting    0.312059\n",
              "Name: route_type, dtype: float64"
            ]
          },
          "metadata": {},
          "execution_count": 118
        }
      ]
    },
    {
      "cell_type": "code",
      "source": [
        "fig,axis = plt.subplots(nrows = 1,ncols = 2,figsize = (11,3))\n",
        "sns.countplot(data['data'],ax=axis[0])\n",
        "sns.countplot(data['route_type'],ax=axis[1])"
      ],
      "metadata": {
        "colab": {
          "base_uri": "https://localhost:8080/",
          "height": 332
        },
        "id": "f1Uxlh203gEP",
        "outputId": "e5ef47fc-8c94-4921-dce3-f51d918307d7"
      },
      "execution_count": null,
      "outputs": [
        {
          "output_type": "stream",
          "name": "stderr",
          "text": [
            "/usr/local/lib/python3.7/dist-packages/seaborn/_decorators.py:43: FutureWarning: Pass the following variable as a keyword arg: x. From version 0.12, the only valid positional argument will be `data`, and passing other arguments without an explicit keyword will result in an error or misinterpretation.\n",
            "  FutureWarning\n",
            "/usr/local/lib/python3.7/dist-packages/seaborn/_decorators.py:43: FutureWarning: Pass the following variable as a keyword arg: x. From version 0.12, the only valid positional argument will be `data`, and passing other arguments without an explicit keyword will result in an error or misinterpretation.\n",
            "  FutureWarning\n"
          ]
        },
        {
          "output_type": "execute_result",
          "data": {
            "text/plain": [
              "<matplotlib.axes._subplots.AxesSubplot at 0x7f49ac5ff850>"
            ]
          },
          "metadata": {},
          "execution_count": 119
        },
        {
          "output_type": "display_data",
          "data": {
            "text/plain": [
              "<Figure size 792x216 with 2 Axes>"
            ],
            "image/png": "[encoded data removed]"
          },
          "metadata": {
            "needs_background": "light"
          }
        }
      ]
    },
    {
      "cell_type": "code",
      "source": [
        "fig,axis = plt.subplots(nrows = 4,ncols = 2,figsize = (11,9))\n",
        "sns.histplot(data['start_scan_to_end_scan'],kde = True,ax=axis[0,0])\n",
        "sns.histplot(data['actual_distance_to_destination'],kde = True,ax=axis[0,1])\n",
        "sns.histplot(data['actual_time'],kde = True,ax=axis[1,0])\n",
        "sns.histplot(data['osrm_time'],kde = True,ax=axis[1,1])\n",
        "sns.histplot(data['osrm_distance'],kde = True,ax=axis[2,0])\n",
        "sns.histplot(data['segment_actual_time'],kde = True,ax=axis[2,1])\n",
        "sns.histplot(data['segment_osrm_time'],kde = True,ax=axis[3,0])\n",
        "sns.histplot(data['segment_osrm_distance'],kde = True,ax=axis[3,1])"
      ],
      "metadata": {
        "colab": {
          "base_uri": "https://localhost:8080/",
          "height": 573
        },
        "id": "H5BZKbui4iNK",
        "outputId": "ccbb63c8-8105-4a98-9227-de0ed4673af6"
      },
      "execution_count": null,
      "outputs": [
        {
          "output_type": "execute_result",
          "data": {
            "text/plain": [
              "<matplotlib.axes._subplots.AxesSubplot at 0x7f49ac416250>"
            ]
          },
          "metadata": {},
          "execution_count": 120
        },
        {
          "output_type": "display_data",
          "data": {
            "text/plain": [
              "<Figure size 792x648 with 8 Axes>"
            ],
            "image/png": "[encoded data removed]"
          },
          "metadata": {
            "needs_background": "light"
          }
        }
      ]
    },
    {
      "cell_type": "markdown",
      "source": [
        "**FEATURE CREATION**"
      ],
      "metadata": {
        "id": "ms9rL0bfBA-I"
      }
    },
    {
      "cell_type": "code",
      "source": [
        "data['trip_creation_year'] = data['trip_creation_time'].dt.year\n",
        "data['trip_creation_month'] = data['trip_creation_time'].dt.month\n",
        "data['trip_creation_day'] = data['trip_creation_time'].dt.day"
      ],
      "metadata": {
        "id": "ZgNSMHT2AjME"
      },
      "execution_count": null,
      "outputs": []
    },
    {
      "cell_type": "code",
      "source": [
        "data['source_name_city'] = data.source_name.str.extract(r'([A-Za-z]+)_',expand = True)\n",
        "data['source_name_place'] = data.source_name.str.extract(r'_([A-Za-z]+)_',expand = True)\n",
        "data['source_name_state'] = data.source_name.str.extract(r'\\(([A-Za-z]+)\\)',expand = True)"
      ],
      "metadata": {
        "id": "Yjrlm9zarx6O"
      },
      "execution_count": null,
      "outputs": []
    },
    {
      "cell_type": "code",
      "source": [
        "data['destination_city'] = data.destination_name.str.extract(r'([A-Za-z]+)_',expand = True)\n",
        "data['destination_place'] = data.destination_name.str.extract(r'_([A-Za-z]+)_',expand = True)\n",
        "data['destination_state'] = data.destination_name.str.extract(r'\\(([A-Za-z]+)\\)',expand = True)"
      ],
      "metadata": {
        "id": "ncWs_jQNvpon"
      },
      "execution_count": null,
      "outputs": []
    },
    {
      "cell_type": "code",
      "source": [
        "data['trip_completion_time'] = data['od_end_time'] - data['od_start_time']"
      ],
      "metadata": {
        "id": "XrDlgR0SwtXX"
      },
      "execution_count": null,
      "outputs": []
    },
    {
      "cell_type": "code",
      "source": [
        "sns.countplot(data['trip_creation_month'])"
      ],
      "metadata": {
        "colab": {
          "base_uri": "https://localhost:8080/",
          "height": 352
        },
        "id": "5cINiWiIZ7vU",
        "outputId": "8d82e675-4690-49b7-ade0-8930d4fb57b6"
      },
      "execution_count": null,
      "outputs": [
        {
          "output_type": "stream",
          "name": "stderr",
          "text": [
            "/usr/local/lib/python3.7/dist-packages/seaborn/_decorators.py:43: FutureWarning: Pass the following variable as a keyword arg: x. From version 0.12, the only valid positional argument will be `data`, and passing other arguments without an explicit keyword will result in an error or misinterpretation.\n",
            "  FutureWarning\n"
          ]
        },
        {
          "output_type": "execute_result",
          "data": {
            "text/plain": [
              "<matplotlib.axes._subplots.AxesSubplot at 0x7f49a1a10b10>"
            ]
          },
          "metadata": {},
          "execution_count": 125
        },
        {
          "output_type": "display_data",
          "data": {
            "text/plain": [
              "<Figure size 432x288 with 1 Axes>"
            ],
            "image/png": "[encoded data removed]"
          },
          "metadata": {
            "needs_background": "light"
          }
        }
      ]
    },
    {
      "cell_type": "code",
      "source": [
        "sns.countplot(data['trip_creation_day'])"
      ],
      "metadata": {
        "colab": {
          "base_uri": "https://localhost:8080/",
          "height": 356
        },
        "id": "pCxrnbQKbfIi",
        "outputId": "eae9b982-0d4c-445f-d99d-e34066794249"
      },
      "execution_count": null,
      "outputs": [
        {
          "output_type": "stream",
          "name": "stderr",
          "text": [
            "/usr/local/lib/python3.7/dist-packages/seaborn/_decorators.py:43: FutureWarning: Pass the following variable as a keyword arg: x. From version 0.12, the only valid positional argument will be `data`, and passing other arguments without an explicit keyword will result in an error or misinterpretation.\n",
            "  FutureWarning\n"
          ]
        },
        {
          "output_type": "execute_result",
          "data": {
            "text/plain": [
              "<matplotlib.axes._subplots.AxesSubplot at 0x7f49a0f86950>"
            ]
          },
          "metadata": {},
          "execution_count": 126
        },
        {
          "output_type": "display_data",
          "data": {
            "text/plain": [
              "<Figure size 432x288 with 1 Axes>"
            ],
            "image/png": "[encoded data removed]"
          },
          "metadata": {
            "needs_background": "light"
          }
        }
      ]
    },
    {
      "cell_type": "code",
      "source": [
        "sns.countplot(data=data, y ='source_name_state')"
      ],
      "metadata": {
        "colab": {
          "base_uri": "https://localhost:8080/",
          "height": 296
        },
        "id": "yJiipNE8bfR6",
        "outputId": "e4c7fd7b-4397-4b63-9d72-f5bc914d0962"
      },
      "execution_count": null,
      "outputs": [
        {
          "output_type": "execute_result",
          "data": {
            "text/plain": [
              "<matplotlib.axes._subplots.AxesSubplot at 0x7f49a0875b50>"
            ]
          },
          "metadata": {},
          "execution_count": 127
        },
        {
          "output_type": "display_data",
          "data": {
            "text/plain": [
              "<Figure size 432x288 with 1 Axes>"
            ],
            "image/png": "[encoded data removed]"
          },
          "metadata": {
            "needs_background": "light"
          }
        }
      ]
    },
    {
      "cell_type": "code",
      "source": [
        "sns.countplot(data=data, y ='destination_state')"
      ],
      "metadata": {
        "colab": {
          "base_uri": "https://localhost:8080/",
          "height": 296
        },
        "id": "P0tMEcPidyN3",
        "outputId": "ce59347f-2ca5-490f-9fd5-e7e956059b44"
      },
      "execution_count": null,
      "outputs": [
        {
          "output_type": "execute_result",
          "data": {
            "text/plain": [
              "<matplotlib.axes._subplots.AxesSubplot at 0x7f49a0423e90>"
            ]
          },
          "metadata": {},
          "execution_count": 128
        },
        {
          "output_type": "display_data",
          "data": {
            "text/plain": [
              "<Figure size 432x288 with 1 Axes>"
            ],
            "image/png": "[encoded data removed]"
          },
          "metadata": {
            "needs_background": "light"
          }
        }
      ]
    },
    {
      "cell_type": "code",
      "source": [
        "data['source_name_city'].value_counts()"
      ],
      "metadata": {
        "colab": {
          "base_uri": "https://localhost:8080/"
        },
        "id": "vXz_nlLZ0T7l",
        "outputId": "d48460ee-3cb6-444f-ce80-1abdbc02dd3c"
      },
      "execution_count": null,
      "outputs": [
        {
          "output_type": "execute_result",
          "data": {
            "text/plain": [
              "Gurgaon         23665\n",
              "Bangalore       10104\n",
              "Bhiwandi         9088\n",
              "Pune             4269\n",
              "Bengaluru        4237\n",
              "                ...  \n",
              "Sumerpur            1\n",
              "Krishnanagar        1\n",
              "Hajipur             1\n",
              "Bhadra              1\n",
              "Daurala             1\n",
              "Name: source_name_city, Length: 1219, dtype: int64"
            ]
          },
          "metadata": {},
          "execution_count": 158
        }
      ]
    },
    {
      "cell_type": "code",
      "source": [
        "data['source_name_place'].value_counts()"
      ],
      "metadata": {
        "colab": {
          "base_uri": "https://localhost:8080/"
        },
        "id": "vCgOqBQe1aZf",
        "outputId": "26db71d1-99e3-4804-a085-98d5c10fc137"
      },
      "execution_count": null,
      "outputs": [
        {
          "output_type": "execute_result",
          "data": {
            "text/plain": [
              "Bilaspur    23464\n",
              "Nelmngla    10053\n",
              "Mankoli      9088\n",
              "Central      8989\n",
              "Tathawde     4061\n",
              "            ...  \n",
              "PcrrdDPP        1\n",
              "AnadiDPP        1\n",
              "Mirapati        1\n",
              "ThaneDPP        1\n",
              "UttarDPP        1\n",
              "Name: source_name_place, Length: 1069, dtype: int64"
            ]
          },
          "metadata": {},
          "execution_count": 160
        }
      ]
    },
    {
      "cell_type": "code",
      "source": [
        "data['destination_city'].value_counts()"
      ],
      "metadata": {
        "colab": {
          "base_uri": "https://localhost:8080/"
        },
        "id": "lCH1R9BI0kDv",
        "outputId": "1562d8c0-9249-4584-c3cd-285f0555251c"
      },
      "execution_count": null,
      "outputs": [
        {
          "output_type": "execute_result",
          "data": {
            "text/plain": [
              "Gurgaon       15393\n",
              "Bangalore     11087\n",
              "Hyderabad      5838\n",
              "Bhiwandi       5586\n",
              "Delhi          5429\n",
              "              ...  \n",
              "Luxettipet        1\n",
              "Tilhar            1\n",
              "Falna             1\n",
              "Daman             1\n",
              "Dhoraji           1\n",
              "Name: destination_city, Length: 1217, dtype: int64"
            ]
          },
          "metadata": {},
          "execution_count": 159
        }
      ]
    },
    {
      "cell_type": "code",
      "source": [
        "data['destination_place'].value_counts()"
      ],
      "metadata": {
        "colab": {
          "base_uri": "https://localhost:8080/"
        },
        "id": "BVogjQQU2gK8",
        "outputId": "1491b6ac-b8f5-4639-ff71-7c32d759345e"
      },
      "execution_count": null,
      "outputs": [
        {
          "output_type": "execute_result",
          "data": {
            "text/plain": [
              "Bilaspur    15363\n",
              "Nelmngla    11019\n",
              "Central      9373\n",
              "Mankoli      5586\n",
              "Shamshbd     5309\n",
              "            ...  \n",
              "KotyamRD        1\n",
              "DivrsnRd        1\n",
              "DMComDPP        1\n",
              "MnbzrDPP        1\n",
              "Sangetha        1\n",
              "Name: destination_place, Length: 1045, dtype: int64"
            ]
          },
          "metadata": {},
          "execution_count": 161
        }
      ]
    },
    {
      "cell_type": "markdown",
      "source": [
        "**MERGING OF ROWS AND AGGREGATION OF FIELDS**"
      ],
      "metadata": {
        "id": "_OU4Swo60OJd"
      }
    },
    {
      "cell_type": "code",
      "source": [
        "data10 = data.groupby('route_type')['actual_time'].mean()\n",
        "data10"
      ],
      "metadata": {
        "colab": {
          "base_uri": "https://localhost:8080/"
        },
        "id": "Yaog39RP43q2",
        "outputId": "9dd05915-bef3-4fdd-a295-8d3376e1a1e1"
      },
      "execution_count": null,
      "outputs": [
        {
          "output_type": "execute_result",
          "data": {
            "text/plain": [
              "route_type\n",
              "Carting     70.639082\n",
              "FTL        574.008218\n",
              "Name: actual_time, dtype: float64"
            ]
          },
          "metadata": {},
          "execution_count": 171
        }
      ]
    },
    {
      "cell_type": "code",
      "source": [
        "data11 = data.groupby('route_type')['actual_distance_to_destination'].mean()\n",
        "data11"
      ],
      "metadata": {
        "colab": {
          "base_uri": "https://localhost:8080/"
        },
        "id": "XSXia62E6Oft",
        "outputId": "27810984-18f7-48c6-d01a-31fba4eae8d4"
      },
      "execution_count": null,
      "outputs": [
        {
          "output_type": "execute_result",
          "data": {
            "text/plain": [
              "route_type\n",
              "Carting     26.617514\n",
              "FTL        328.177896\n",
              "Name: actual_distance_to_destination, dtype: float64"
            ]
          },
          "metadata": {},
          "execution_count": 170
        }
      ]
    },
    {
      "cell_type": "markdown",
      "source": [
        "**Hypothesis testing and visual analysis between actual_time aggregated value and segment actual time aggregated value**"
      ],
      "metadata": {
        "id": "rq9NZcV403ZX"
      }
    },
    {
      "cell_type": "code",
      "source": [
        "data_segment_time = data.groupby(['trip_uuid','source_center','destination_center'],as_index=False)['segment_actual_time'].sum()\n",
        "data_segment_time = data_segment_time.groupby('trip_uuid',as_index=False)['segment_actual_time'].sum()"
      ],
      "metadata": {
        "id": "npK_AD0G0MlF"
      },
      "execution_count": null,
      "outputs": []
    },
    {
      "cell_type": "code",
      "source": [
        "data_actual_time = data.groupby(['trip_uuid','source_center','destination_center'],as_index=False)['actual_time'].last()\n",
        "data_actual_time = data_actual_time.groupby('trip_uuid',as_index=False)['actual_time'].sum()\n"
      ],
      "metadata": {
        "id": "MJ9kNU2C7pOH"
      },
      "execution_count": null,
      "outputs": []
    },
    {
      "cell_type": "code",
      "source": [
        "# Outlier Treatment using IQR\n",
        "q1_s = data_segment_time['segment_actual_time'].quantile(0.25)\n",
        "q3_s = data_segment_time['segment_actual_time'].quantile(0.75)\n",
        "IQR_s = q3_s - q1_s\n",
        "q1_a = data_actual_time['actual_time'].quantile(0.25)\n",
        "q3_a = data_actual_time['actual_time'].quantile(0.75)\n",
        "IQR_a = q3_a - q1_a\n",
        "data_segment_time = data_segment_time[(data_segment_time['segment_actual_time']>(q1_s-1.5*IQR_s) ) & (data_segment_time['segment_actual_time']<(q3_s+1.5*IQR_s))]\n",
        "data_actual_time =  data_actual_time[(data_actual_time['actual_time']>(q1_a-1.5*IQR_a) ) & (data_actual_time['actual_time']<(q3_a+1.5*IQR_a))]"
      ],
      "metadata": {
        "id": "biG5agEw92aP"
      },
      "execution_count": null,
      "outputs": []
    },
    {
      "cell_type": "code",
      "source": [
        "#Checking Distribution after applying Log Transformation \n",
        "fig,axis = plt.subplots(nrows = 1,ncols = 2,figsize = (11,4))\n",
        "sns.histplot(np.log(data_segment_time['segment_actual_time']),kde=True,ax=axis[0])\n",
        "sns.histplot(np.log(data_actual_time['actual_time']),kde = True,ax=axis[1])"
      ],
      "metadata": {
        "colab": {
          "base_uri": "https://localhost:8080/",
          "height": 297
        },
        "id": "YElkRoVXEdwj",
        "outputId": "435e038a-a00e-451f-8656-a9d1b89c9901"
      },
      "execution_count": null,
      "outputs": [
        {
          "output_type": "execute_result",
          "data": {
            "text/plain": [
              "<matplotlib.axes._subplots.AxesSubplot at 0x7f499fdd1b50>"
            ]
          },
          "metadata": {},
          "execution_count": 132
        },
        {
          "output_type": "display_data",
          "data": {
            "text/plain": [
              "<Figure size 792x288 with 2 Axes>"
            ],
            "image/png": "[encoded data removed]"
          },
          "metadata": {
            "needs_background": "light"
          }
        }
      ]
    },
    {
      "cell_type": "code",
      "source": [
        "#since data is not distributed normally, lets apply CLT to convert data into gaussian distribution\n",
        "def calc_sample_mean0(sample_size,no_of_sample_means) :\n",
        "  mean = []\n",
        "  for i in range(no_of_sample_means) :\n",
        "    sample_segment_time = data_segment_time['segment_actual_time'].sample(n=sample_size,replace=True)\n",
        "    sample_segmenttime_mean = sample_segment_time.mean()\n",
        "    mean.append(sample_segmenttime_mean)\n",
        "  return mean\n",
        "data_segmenttime = np.array(calc_sample_mean0(1000,1000))\n",
        "def calc_sample_mean1(sample_size,no_of_sample_means) :\n",
        "  mean = []\n",
        "  for i in range(no_of_sample_means) :\n",
        "    sample_actual_time = data_actual_time['actual_time'].sample(n=sample_size,replace=True)\n",
        "    sample_actualtime_mean = sample_actual_time.mean()\n",
        "    mean.append(sample_actualtime_mean)\n",
        "  return mean\n",
        "data_actualtime = np.array(calc_sample_mean1(1000,1000))\n",
        "\n",
        "fig,axis = plt.subplots(nrows = 1,ncols = 2,figsize = (9,4))\n",
        "sns.histplot(data_segmenttime,ax=axis[0],kde = True)\n",
        "sns.histplot(data_actualtime,ax=axis[1],kde =True)"
      ],
      "metadata": {
        "colab": {
          "base_uri": "https://localhost:8080/",
          "height": 282
        },
        "id": "9DSri4f19QR-",
        "outputId": "65780730-0a3e-4f80-c146-a162b247178f"
      },
      "execution_count": null,
      "outputs": [
        {
          "output_type": "execute_result",
          "data": {
            "text/plain": [
              "<matplotlib.axes._subplots.AxesSubplot at 0x7f49a01aa090>"
            ]
          },
          "metadata": {},
          "execution_count": 133
        },
        {
          "output_type": "display_data",
          "data": {
            "text/plain": [
              "<Figure size 648x288 with 2 Axes>"
            ],
            "image/png": "[encoded data removed]"
          },
          "metadata": {
            "needs_background": "light"
          }
        }
      ]
    },
    {
      "cell_type": "markdown",
      "source": [
        "**HYPTHESIS TESTING :** Is there significant diference between cumulative segment time and actual time.\n",
        "\n",
        "**𝐻 0** : The average cumulative segment time is equal to the actual time.\n",
        "\n",
        "**𝐻 𝑎** : The average cumulative segment time is not equal to the actual time.\n",
        "\n",
        "Let 𝜇1 and 𝜇2 be the average of segment time and actual time respectively.\n",
        "\n",
        "**𝐻 0**: 𝜇1 = 𝜇2\n",
        "\n",
        "**𝐻 𝑎** : 𝜇1 ≠ 𝜇2\n",
        "\n",
        "**test Statistics :** T test\n",
        "\n",
        "**alpha :** 0.05 \n"
      ],
      "metadata": {
        "id": "tcMsiPGgd7SO"
      }
    },
    {
      "cell_type": "code",
      "source": [
        "#checking equal variance\n",
        "print(data_segmenttime.std())\n",
        "print(data_actualtime.std())"
      ],
      "metadata": {
        "colab": {
          "base_uri": "https://localhost:8080/"
        },
        "id": "viPqxMtzymr1",
        "outputId": "9f5d246e-9dc9-4219-d8ae-464561b6d879"
      },
      "execution_count": null,
      "outputs": [
        {
          "output_type": "stream",
          "name": "stdout",
          "text": [
            "5.605879689942605\n",
            "5.465850455537912\n"
          ]
        }
      ]
    },
    {
      "cell_type": "code",
      "source": [
        "test_stat, p_value = ttest_ind (data_segmenttime,data_actualtime)\n",
        "p_value"
      ],
      "metadata": {
        "colab": {
          "base_uri": "https://localhost:8080/"
        },
        "id": "eX-cReLCgDDm",
        "outputId": "f2886d93-9eeb-4606-8c03-4ca6c25f3a43"
      },
      "execution_count": null,
      "outputs": [
        {
          "output_type": "execute_result",
          "data": {
            "text/plain": [
              "7.099508910884947e-11"
            ]
          },
          "metadata": {},
          "execution_count": 135
        }
      ]
    },
    {
      "cell_type": "markdown",
      "source": [
        "**Observation**: Since the p-value is less than the 5% significence level, we fail to accept the null hypothesis. Hence, we have enough statistical evidence to say that the average cumulative segment time is not equal to the actual time"
      ],
      "metadata": {
        "id": "aV9vSjdFjHpA"
      }
    },
    {
      "cell_type": "markdown",
      "source": [
        "\n",
        "\n",
        "---\n",
        "\n"
      ],
      "metadata": {
        "id": "DFQUygEQ-04Q"
      }
    },
    {
      "cell_type": "markdown",
      "source": [
        "**Hypothesis testing and visual analysis between osrm distance aggregated value and segment osrm distance aggregated value**"
      ],
      "metadata": {
        "id": "EzypduaV1Q0l"
      }
    },
    {
      "cell_type": "code",
      "source": [
        "data_segment_osrm_distance = data.groupby(['trip_uuid','source_center','destination_center'],as_index=False)['segment_osrm_distance'].sum()\n",
        "data_segment_osrm_distance = data_segment_osrm_distance.groupby('trip_uuid',as_index=False)['segment_osrm_distance'].sum()"
      ],
      "metadata": {
        "id": "-Dtk3vULjX4c"
      },
      "execution_count": null,
      "outputs": []
    },
    {
      "cell_type": "code",
      "source": [
        "data_osrm_distance = data.groupby(['trip_uuid','source_center','destination_center'],as_index=False)['osrm_distance'].last()\n",
        "data_osrm_distance = data_osrm_distance.groupby('trip_uuid',as_index=False)['osrm_distance'].sum()"
      ],
      "metadata": {
        "id": "XVQR9IPTl1XA"
      },
      "execution_count": null,
      "outputs": []
    },
    {
      "cell_type": "code",
      "source": [
        "#Visual Analysis\n",
        "fig,axis = plt.subplots(nrows = 1,ncols = 2,figsize = (11,3))\n",
        "sns.histplot(data_segment_osrm_distance['segment_osrm_distance'],ax=axis[0])\n",
        "sns.histplot(data_osrm_distance['osrm_distance'],ax=axis[1])"
      ],
      "metadata": {
        "colab": {
          "base_uri": "https://localhost:8080/",
          "height": 246
        },
        "id": "B7Cpoy1amGBt",
        "outputId": "7db9b153-d649-4b30-9db9-6f064d51e971"
      },
      "execution_count": null,
      "outputs": [
        {
          "output_type": "execute_result",
          "data": {
            "text/plain": [
              "<matplotlib.axes._subplots.AxesSubplot at 0x7f49a9405750>"
            ]
          },
          "metadata": {},
          "execution_count": 138
        },
        {
          "output_type": "display_data",
          "data": {
            "text/plain": [
              "<Figure size 792x216 with 2 Axes>"
            ],
            "image/png": "[encoded data removed]"
          },
          "metadata": {
            "needs_background": "light"
          }
        }
      ]
    },
    {
      "cell_type": "code",
      "source": [
        "# Outlier Treatment using IQR\n",
        "q1_sd = data_segment_osrm_distance['segment_osrm_distance'].quantile(0.25)\n",
        "q3_sd = data_segment_osrm_distance['segment_osrm_distance'].quantile(0.75)\n",
        "IQR_sd = q3_sd - q1_sd\n",
        "q1_ad = data_osrm_distance['osrm_distance'].quantile(0.25)\n",
        "q3_ad = data_osrm_distance['osrm_distance'].quantile(0.75)\n",
        "IQR_ad = q3_ad - q1_ad\n",
        "data_segment_time = data_segment_osrm_distance[(data_segment_osrm_distance['segment_osrm_distance']>(q1_sd-1.5*IQR_sd) ) & (data_segment_osrm_distance['segment_osrm_distance']<(q3_sd+1.5*IQR_sd))]\n",
        "data_actual_time =  data_osrm_distance[(data_osrm_distance['osrm_distance']>(q1_ad-1.5*IQR_ad) ) & (data_osrm_distance['osrm_distance']<(q3_ad+1.5*IQR_ad))]"
      ],
      "metadata": {
        "id": "JUs9ZXfTtEI-"
      },
      "execution_count": null,
      "outputs": []
    },
    {
      "cell_type": "code",
      "source": [
        "#Checking Distribution after applying Log Transformation \n",
        "fig,axis = plt.subplots(nrows = 1,ncols = 2,figsize = (11,4))\n",
        "sns.histplot(np.log(data_segment_osrm_distance['segment_osrm_distance']),kde=True,ax=axis[0])\n",
        "sns.histplot(np.log(data_osrm_distance['osrm_distance']),kde = True,ax=axis[1])"
      ],
      "metadata": {
        "colab": {
          "base_uri": "https://localhost:8080/",
          "height": 298
        },
        "id": "nSQJrpn-ud9_",
        "outputId": "97edc352-7be3-454f-b4ea-c12c3bdee5f8"
      },
      "execution_count": null,
      "outputs": [
        {
          "output_type": "execute_result",
          "data": {
            "text/plain": [
              "<matplotlib.axes._subplots.AxesSubplot at 0x7f499f525b50>"
            ]
          },
          "metadata": {},
          "execution_count": 140
        },
        {
          "output_type": "display_data",
          "data": {
            "text/plain": [
              "<Figure size 792x288 with 2 Axes>"
            ],
            "image/png": "[encoded data removed]"
          },
          "metadata": {
            "needs_background": "light"
          }
        }
      ]
    },
    {
      "cell_type": "code",
      "source": [
        "#since data is not distributed normally, lets apply CLT to convert data into gaussian distribution\n",
        "def calc_sample_mean0(sample_size,no_of_sample_means) :\n",
        "  mean = []\n",
        "  for i in range(no_of_sample_means) :\n",
        "    sample_segment_osrmdist = data_segment_osrm_distance['segment_osrm_distance'].sample(n=sample_size,replace=True)\n",
        "    sample_segmentosrm_dist_mean = sample_segment_osrmdist.mean()\n",
        "    mean.append(sample_segmentosrm_dist_mean)\n",
        "  return mean\n",
        "data_segment_osrm_dist = np.array(calc_sample_mean0(1000,1000))\n",
        "def calc_sample_mean1(sample_size,no_of_sample_means) :\n",
        "  mean = []\n",
        "  for i in range(no_of_sample_means) :\n",
        "    sample_osrm_dist = data_osrm_distance['osrm_distance'].sample(n=sample_size,replace=True)\n",
        "    sample_osrmdist_mean = sample_osrm_dist.mean()\n",
        "    mean.append(sample_osrmdist_mean)\n",
        "  return mean\n",
        "data_osrmdist = np.array(calc_sample_mean1(1000,1000))\n",
        "\n",
        "fig,axis = plt.subplots(nrows = 1,ncols = 2,figsize = (9,4))\n",
        "sns.histplot(data_segment_osrm_dist,ax=axis[0],kde = True)\n",
        "sns.histplot(data_osrmdist,ax=axis[1],kde =True)"
      ],
      "metadata": {
        "colab": {
          "base_uri": "https://localhost:8080/",
          "height": 285
        },
        "id": "mGdOet_kyLbs",
        "outputId": "afd6c7c1-4499-4aa8-f333-c230751cbafb"
      },
      "execution_count": null,
      "outputs": [
        {
          "output_type": "execute_result",
          "data": {
            "text/plain": [
              "<matplotlib.axes._subplots.AxesSubplot at 0x7f499f084650>"
            ]
          },
          "metadata": {},
          "execution_count": 141
        },
        {
          "output_type": "display_data",
          "data": {
            "text/plain": [
              "<Figure size 648x288 with 2 Axes>"
            ],
            "image/png": "[encoded data removed]"
          },
          "metadata": {
            "needs_background": "light"
          }
        }
      ]
    },
    {
      "cell_type": "markdown",
      "source": [
        "\n",
        "**HYPTHESIS TESTING :** Is there significant diference between cumulative segment osrm distance and osrm distance.\n",
        "\n",
        "**𝐻 0** : The average cumulative segment osrm distance is equal to the osrm distance.\n",
        "\n",
        "**𝐻 𝑎** : The average cumulative segment osrm distance is not equal to the osrm distance.\n",
        "\n",
        "Let 𝜇1 and 𝜇2 be the average of segment osrm distance and osrm distance respectively.\n",
        "\n",
        "**𝐻 0**: 𝜇1 = 𝜇2\n",
        "\n",
        "**𝐻 𝑎** : 𝜇1 ≠ 𝜇2\n",
        "\n",
        "**test Statistics :** T test\n",
        "\n",
        "**alpha :** 0.05 \n"
      ],
      "metadata": {
        "id": "Kf_3I63hv5sL"
      }
    },
    {
      "cell_type": "code",
      "source": [
        "#checking equal variance\n",
        "print(data_segment_osrm_dist.std())\n",
        "print(data_osrmdist.std())"
      ],
      "metadata": {
        "colab": {
          "base_uri": "https://localhost:8080/"
        },
        "id": "FILrML9dxTGC",
        "outputId": "9209c0a3-83b0-44cb-91f1-82248a9290e6"
      },
      "execution_count": null,
      "outputs": [
        {
          "output_type": "stream",
          "name": "stdout",
          "text": [
            "12.35935347023588\n",
            "11.848808717492588\n"
          ]
        }
      ]
    },
    {
      "cell_type": "code",
      "source": [
        "test_stat, p_value = ttest_ind (data_segment_osrm_dist,data_osrmdist)\n",
        "p_value"
      ],
      "metadata": {
        "colab": {
          "base_uri": "https://localhost:8080/"
        },
        "id": "MrNUfCdjva2a",
        "outputId": "0d839488-2472-466f-a8d4-db87f42d759f"
      },
      "execution_count": null,
      "outputs": [
        {
          "output_type": "execute_result",
          "data": {
            "text/plain": [
              "5.13784892954196e-198"
            ]
          },
          "metadata": {},
          "execution_count": 143
        }
      ]
    },
    {
      "cell_type": "markdown",
      "source": [
        "**Observation**: Since the p-value is less than the 5% significence level, we fail to accept the null hypothesis. Hence, we have enough statistical evidence to say that the average cumulative segment osrm distance is not equal to the actual osrm distance"
      ],
      "metadata": {
        "id": "3ycnKbE2yMMD"
      }
    },
    {
      "cell_type": "markdown",
      "source": [
        "\n",
        "\n",
        "---\n",
        "\n"
      ],
      "metadata": {
        "id": "MTLk6DSB-tEh"
      }
    },
    {
      "cell_type": "markdown",
      "source": [
        "**Hypothesis testing and visual analysis osrm time aggregated value and segment osrm time aggregated value**\n",
        "\n"
      ],
      "metadata": {
        "id": "TikTWWL_1uP2"
      }
    },
    {
      "cell_type": "code",
      "source": [
        "data_segment_osrm_time = data.groupby(['trip_uuid','source_center','destination_center'],as_index=False)['segment_osrm_time'].sum()\n",
        "data_segment_osrm_time = data_segment_osrm_time.groupby('trip_uuid',as_index=False)['segment_osrm_time'].sum()"
      ],
      "metadata": {
        "id": "OC2hdp6uyLPE"
      },
      "execution_count": null,
      "outputs": []
    },
    {
      "cell_type": "code",
      "source": [
        "data_osrm_time = data.groupby(['trip_uuid','source_center','destination_center'],as_index=False)['osrm_time'].last()\n",
        "data_osrm_time = data_osrm_time.groupby('trip_uuid',as_index=False)['osrm_time'].sum()"
      ],
      "metadata": {
        "id": "HRJsOU8_3jLy"
      },
      "execution_count": null,
      "outputs": []
    },
    {
      "cell_type": "code",
      "source": [
        "#Visual Analysis\n",
        "fig,axis = plt.subplots(nrows = 1,ncols = 2,figsize = (11,3))\n",
        "sns.histplot(data_segment_osrm_time['segment_osrm_time'],ax=axis[0])\n",
        "sns.histplot(data_osrm_time['osrm_time'],ax=axis[1])"
      ],
      "metadata": {
        "colab": {
          "base_uri": "https://localhost:8080/",
          "height": 246
        },
        "id": "oqIL5eif3jaK",
        "outputId": "4abb59fc-acba-477b-84b9-e6030398b31b"
      },
      "execution_count": null,
      "outputs": [
        {
          "output_type": "execute_result",
          "data": {
            "text/plain": [
              "<matplotlib.axes._subplots.AxesSubplot at 0x7f499fc59590>"
            ]
          },
          "metadata": {},
          "execution_count": 146
        },
        {
          "output_type": "display_data",
          "data": {
            "text/plain": [
              "<Figure size 792x216 with 2 Axes>"
            ],
            "image/png": "[encoded data removed]"
          },
          "metadata": {
            "needs_background": "light"
          }
        }
      ]
    },
    {
      "cell_type": "code",
      "source": [
        "# Outlier Treatment using IQR\n",
        "q1_osrm_s = data_segment_osrm_time['segment_osrm_time'].quantile(0.25)\n",
        "q3_osrm_s = data_segment_osrm_time['segment_osrm_time'].quantile(0.75)\n",
        "IQR_osrm_s = q3_osrm_s - q1_osrm_s\n",
        "q1_osrm_a = data_osrm_time['osrm_time'].quantile(0.25)\n",
        "q3_osrm_a = data_osrm_time['osrm_time'].quantile(0.75)\n",
        "IQR_osrm_a = q3_osrm_a - q1_osrm_a\n",
        "data_segment_osrm_time = data_segment_osrm_time[(data_segment_osrm_time['segment_osrm_time']>(q1_osrm_s-1.5*IQR_osrm_s) ) & (data_segment_osrm_time['segment_osrm_time']<(q3_osrm_s+1.5*IQR_osrm_s))]\n",
        "data_osrm_time =  data_osrm_time[(data_osrm_time['osrm_time']>(q1_osrm_a-1.5*IQR_osrm_a)) & (data_osrm_time['osrm_time']<(q3_osrm_a+1.5*IQR_osrm_a))]"
      ],
      "metadata": {
        "id": "Z1icm2uY3jm4"
      },
      "execution_count": null,
      "outputs": []
    },
    {
      "cell_type": "code",
      "source": [
        "#Checking Distribution after applying Log Transformation \n",
        "fig,axis = plt.subplots(nrows = 1,ncols = 2,figsize = (11,4))\n",
        "sns.histplot(np.log(data_segment_osrm_time['segment_osrm_time']),kde=True,ax=axis[0])\n",
        "sns.histplot(np.log(data_osrm_time['osrm_time']),kde = True,ax=axis[1])"
      ],
      "metadata": {
        "colab": {
          "base_uri": "https://localhost:8080/",
          "height": 300
        },
        "id": "pN32hkZ23jzn",
        "outputId": "a1c18ad0-8c5d-4861-b705-ab2161420072"
      },
      "execution_count": null,
      "outputs": [
        {
          "output_type": "execute_result",
          "data": {
            "text/plain": [
              "<matplotlib.axes._subplots.AxesSubplot at 0x7f499e9fc510>"
            ]
          },
          "metadata": {},
          "execution_count": 148
        },
        {
          "output_type": "display_data",
          "data": {
            "text/plain": [
              "<Figure size 792x288 with 2 Axes>"
            ],
            "image/png": "[encoded data removed]"
          },
          "metadata": {
            "needs_background": "light"
          }
        }
      ]
    },
    {
      "cell_type": "code",
      "source": [
        "#since data is not distributed normally, lets apply CLT to convert data into gaussian distribution\n",
        "def calc_sample_mean0(sample_size,no_of_sample_means) :\n",
        "  mean = []\n",
        "  for i in range(no_of_sample_means) :\n",
        "    sample_segment_osrmtime = data_segment_osrm_time['segment_osrm_time'].sample(n=sample_size,replace=True)\n",
        "    sample_segmentosrm_time_mean = sample_segment_osrmtime.mean()\n",
        "    mean.append(sample_segmentosrm_time_mean)\n",
        "  return mean\n",
        "data_segment_osrm_time = np.array(calc_sample_mean0(1000,1000))\n",
        "def calc_sample_mean1(sample_size,no_of_sample_means) :\n",
        "  mean = []\n",
        "  for i in range(no_of_sample_means) :\n",
        "    sample_osrm_time = data_osrm_time['osrm_time'].sample(n=sample_size,replace=True)\n",
        "    sample_osrmtime_mean = sample_osrm_time.mean()\n",
        "    mean.append(sample_osrmtime_mean)\n",
        "  return mean\n",
        "data_osrmtime = np.array(calc_sample_mean1(1000,1000))\n",
        "\n",
        "fig,axis = plt.subplots(nrows = 1,ncols = 2,figsize = (9,4))\n",
        "sns.histplot(data_segment_osrm_time,ax=axis[0],kde = True)\n",
        "sns.histplot(data_osrmtime,ax=axis[1],kde =True)"
      ],
      "metadata": {
        "colab": {
          "base_uri": "https://localhost:8080/",
          "height": 283
        },
        "id": "HLWnxhYR3kAe",
        "outputId": "c2d73375-ef67-41a4-dc8a-770d4ad21c5c"
      },
      "execution_count": null,
      "outputs": [
        {
          "output_type": "execute_result",
          "data": {
            "text/plain": [
              "<matplotlib.axes._subplots.AxesSubplot at 0x7f499e884a50>"
            ]
          },
          "metadata": {},
          "execution_count": 149
        },
        {
          "output_type": "display_data",
          "data": {
            "text/plain": [
              "<Figure size 648x288 with 2 Axes>"
            ],
            "image/png": "[encoded data removed]"
          },
          "metadata": {
            "needs_background": "light"
          }
        }
      ]
    },
    {
      "cell_type": "markdown",
      "source": [
        "\n",
        "**HYPTHESIS TESTING :** Is there significant diference between osrm time aggregated value and segment osrm time aggregated value\n",
        "\n",
        "**𝐻 0** : The average of osrm time aggregated value and segment osrm time aggregated value is equal.\n",
        "\n",
        "**𝐻 𝑎** : The average of osrm time aggregated value and segment osrm time aggregated value is not equal.\n",
        "\n",
        "Let 𝜇1 and 𝜇2 be the average of srm time aggregated value and segment osrm time aggregated value\n",
        "\n",
        "**𝐻 0**: 𝜇1 = 𝜇2\n",
        "\n",
        "**𝐻 𝑎** : 𝜇1 ≠ 𝜇2\n",
        "\n",
        "**test Statistics :** T test\n",
        "\n",
        "**alpha :** 0.05 \n"
      ],
      "metadata": {
        "id": "IuKNUC2367pH"
      }
    },
    {
      "cell_type": "code",
      "source": [
        "#checking equal variance\n",
        "print(data_segment_osrm_time.std())\n",
        "print(data_osrmtime.std())"
      ],
      "metadata": {
        "colab": {
          "base_uri": "https://localhost:8080/"
        },
        "id": "sZjccrzE_NZt",
        "outputId": "f67953f2-297b-4777-bef2-ec487dede3f1"
      },
      "execution_count": null,
      "outputs": [
        {
          "output_type": "stream",
          "name": "stdout",
          "text": [
            "3.0182803277389594\n",
            "2.582894721385097\n"
          ]
        }
      ]
    },
    {
      "cell_type": "code",
      "source": [
        "test_stat, p_value = ttest_ind (data_segment_osrm_time,data_osrmtime)\n",
        "p_value"
      ],
      "metadata": {
        "colab": {
          "base_uri": "https://localhost:8080/"
        },
        "id": "Y8yND0NA_Kbh",
        "outputId": "fc900a1f-7bab-4fec-c68f-49dc37fa06fe"
      },
      "execution_count": null,
      "outputs": [
        {
          "output_type": "execute_result",
          "data": {
            "text/plain": [
              "0.0"
            ]
          },
          "metadata": {},
          "execution_count": 151
        }
      ]
    },
    {
      "cell_type": "markdown",
      "source": [
        "**Observation**: Since the p-value is less than the 5% significence level, we fail to accept the null hypothesis. Hence, we have enough statistical evidence to say that average of osrm time aggregated value and segment osrm time aggregated value is not equal."
      ],
      "metadata": {
        "id": "EJZ1MSpQ8ot0"
      }
    },
    {
      "cell_type": "markdown",
      "source": [
        "\n",
        "\n",
        "---\n",
        "\n"
      ],
      "metadata": {
        "id": "dk1SrIE_-hZx"
      }
    },
    {
      "cell_type": "markdown",
      "source": [
        "**Hypothesis testing and visual analysis between actual_time aggregated value and OSRM time aggregated value**"
      ],
      "metadata": {
        "id": "ICgnHFY5-V96"
      }
    },
    {
      "cell_type": "markdown",
      "source": [
        "Since we have already normalized data previously, lets get to hypothesis testing directly and use data from previous analysis\n",
        "\n",
        "**HYPTHESIS TESTING :** Is there significant diference between actual time aggregated value and osrm time aggregated value\n",
        "\n",
        "**𝐻 0** : The average of osrm time aggregated value and actual time aggregated value is equal.\n",
        "\n",
        "**𝐻 𝑎** : The average of osrm time aggregated value and actual time aggregated value is not equal.\n",
        "\n",
        "Let 𝜇1 and 𝜇2 be the average\n",
        "\n",
        "**𝐻 0**: 𝜇1 = 𝜇2\n",
        "\n",
        "**𝐻 𝑎** : 𝜇1 ≠ 𝜇2\n",
        "\n",
        "**test Statistics :** T test\n",
        "\n",
        "**alpha :** 0.05 \n"
      ],
      "metadata": {
        "id": "-qxNn3r3_9QV"
      }
    },
    {
      "cell_type": "code",
      "source": [
        "#checking equal variance\n",
        "print(data_actualtime.std())\n",
        "print(data_osrmtime.std())\n",
        "#Ratio is less than 1:4 i.e equal variance"
      ],
      "metadata": {
        "colab": {
          "base_uri": "https://localhost:8080/"
        },
        "id": "u1X9lvKh-UFJ",
        "outputId": "63d1f3b8-000a-4611-cf0a-b81128386ebd"
      },
      "execution_count": null,
      "outputs": [
        {
          "output_type": "stream",
          "name": "stdout",
          "text": [
            "5.465850455537912\n",
            "2.582894721385097\n"
          ]
        }
      ]
    },
    {
      "cell_type": "code",
      "source": [
        "test_stat, p_value = ttest_ind (data_actualtime,data_osrmtime)\n",
        "p_value"
      ],
      "metadata": {
        "colab": {
          "base_uri": "https://localhost:8080/"
        },
        "id": "P5On2vOG_mkG",
        "outputId": "4cf4701a-464b-458f-e94a-bc75deda6ef1"
      },
      "execution_count": null,
      "outputs": [
        {
          "output_type": "execute_result",
          "data": {
            "text/plain": [
              "0.0"
            ]
          },
          "metadata": {},
          "execution_count": 153
        }
      ]
    },
    {
      "cell_type": "markdown",
      "source": [
        "**Observation**: Since the p-value is less than the 5% significence level, we fail to accept the null hypothesis. Hence, we have enough statistical evidence to say that average of osrm time aggregated value and actual time aggregated value is not equal."
      ],
      "metadata": {
        "id": "v4umHhbPCdU_"
      }
    },
    {
      "cell_type": "markdown",
      "source": [
        "\n",
        "\n",
        "---\n",
        "\n"
      ],
      "metadata": {
        "id": "dCBfbs6u6lpX"
      }
    },
    {
      "cell_type": "markdown",
      "source": [
        "**One-hot encoding of categorical variable - route_type**"
      ],
      "metadata": {
        "id": "XKSXp3Tr0z7n"
      }
    },
    {
      "cell_type": "code",
      "source": [
        "from sklearn.preprocessing import OneHotEncoder\n",
        "#Create an instance of One-hot-encoder\n",
        "data['route_type']=data['route_type'].astype('category')\n",
        "data['enc_route_type']=data['route_type'].cat.codes\n",
        "enc=OneHotEncoder()\n",
        "enc_data=pd.DataFrame(enc.fit_transform(data[['enc_route_type']]).toarray())\n",
        "New_df=data.join(enc_data)"
      ],
      "metadata": {
        "id": "XAYijqmM08wW"
      },
      "execution_count": null,
      "outputs": []
    },
    {
      "cell_type": "code",
      "source": [
        "New_df.head(2)"
      ],
      "metadata": {
        "colab": {
          "base_uri": "https://localhost:8080/",
          "height": 275
        },
        "id": "r75nLgla24D4",
        "outputId": "b522c96f-6381-4b4d-eb45-92d636a428b7"
      },
      "execution_count": null,
      "outputs": [
        {
          "output_type": "execute_result",
          "data": {
            "text/plain": [
              "       data         trip_creation_time  \\\n",
              "0  training 2018-09-20 02:35:36.476840   \n",
              "1  training 2018-09-20 02:35:36.476840   \n",
              "\n",
              "                                 route_schedule_uuid route_type  \\\n",
              "0  thanos::sroute:eb7bfc78-b351-4c0e-a951-fa3d5c3...    Carting   \n",
              "1  thanos::sroute:eb7bfc78-b351-4c0e-a951-fa3d5c3...    Carting   \n",
              "\n",
              "                 trip_uuid source_center                 source_name  \\\n",
              "0  trip-153741093647649320  IND388121AAA  Anand_VUNagar_DC (Gujarat)   \n",
              "1  trip-153741093647649320  IND388121AAA  Anand_VUNagar_DC (Gujarat)   \n",
              "\n",
              "  destination_center               destination_name  \\\n",
              "0       IND388620AAB  Khambhat_MotvdDPP_D (Gujarat)   \n",
              "1       IND388620AAB  Khambhat_MotvdDPP_D (Gujarat)   \n",
              "\n",
              "               od_start_time  ... source_name_city  source_name_place  \\\n",
              "0 2018-09-20 03:21:32.418600  ...            Anand            VUNagar   \n",
              "1 2018-09-20 03:21:32.418600  ...            Anand            VUNagar   \n",
              "\n",
              "   source_name_state  destination_city  destination_place  destination_state  \\\n",
              "0            Gujarat          Khambhat           MotvdDPP            Gujarat   \n",
              "1            Gujarat          Khambhat           MotvdDPP            Gujarat   \n",
              "\n",
              "    trip_completion_time  enc_route_type    0    1  \n",
              "0 0 days 01:26:12.818197               0  1.0  0.0  \n",
              "1 0 days 01:26:12.818197               0  1.0  0.0  \n",
              "\n",
              "[2 rows x 32 columns]"
            ],
            "text/html": [
              "\n",
              "  <div id=\"df-5b97d610-1765-4b27-b7f4-0e51eee0dcac\">\n",
              "    <div class=\"colab-df-container\">\n",
              "      <div>\n",
              "<style scoped>\n",
              "    .dataframe tbody tr th:only-of-type {\n",
              "        vertical-align: middle;\n",
              "    }\n",
              "\n",
              "    .dataframe tbody tr th {\n",
              "        vertical-align: top;\n",
              "    }\n",
              "\n",
              "    .dataframe thead th {\n",
              "        text-align: right;\n",
              "    }\n",
              "</style>\n",
              "<table border=\"1\" class=\"dataframe\">\n",
              "  <thead>\n",
              "    <tr style=\"text-align: right;\">\n",
              "      <th></th>\n",
              "      <th>data</th>\n",
              "      <th>trip_creation_time</th>\n",
              "      <th>route_schedule_uuid</th>\n",
              "      <th>route_type</th>\n",
              "      <th>trip_uuid</th>\n",
              "      <th>source_center</th>\n",
              "      <th>source_name</th>\n",
              "      <th>destination_center</th>\n",
              "      <th>destination_name</th>\n",
              "      <th>od_start_time</th>\n",
              "      <th>...</th>\n",
              "      <th>source_name_city</th>\n",
              "      <th>source_name_place</th>\n",
              "      <th>source_name_state</th>\n",
              "      <th>destination_city</th>\n",
              "      <th>destination_place</th>\n",
              "      <th>destination_state</th>\n",
              "      <th>trip_completion_time</th>\n",
              "      <th>enc_route_type</th>\n",
              "      <th>0</th>\n",
              "      <th>1</th>\n",
              "    </tr>\n",
              "  </thead>\n",
              "  <tbody>\n",
              "    <tr>\n",
              "      <th>0</th>\n",
              "      <td>training</td>\n",
              "      <td>2018-09-20 02:35:36.476840</td>\n",
              "      <td>thanos::sroute:eb7bfc78-b351-4c0e-a951-fa3d5c3...</td>\n",
              "      <td>Carting</td>\n",
              "      <td>trip-153741093647649320</td>\n",
              "      <td>IND388121AAA</td>\n",
              "      <td>Anand_VUNagar_DC (Gujarat)</td>\n",
              "      <td>IND388620AAB</td>\n",
              "      <td>Khambhat_MotvdDPP_D (Gujarat)</td>\n",
              "      <td>2018-09-20 03:21:32.418600</td>\n",
              "      <td>...</td>\n",
              "      <td>Anand</td>\n",
              "      <td>VUNagar</td>\n",
              "      <td>Gujarat</td>\n",
              "      <td>Khambhat</td>\n",
              "      <td>MotvdDPP</td>\n",
              "      <td>Gujarat</td>\n",
              "      <td>0 days 01:26:12.818197</td>\n",
              "      <td>0</td>\n",
              "      <td>1.0</td>\n",
              "      <td>0.0</td>\n",
              "    </tr>\n",
              "    <tr>\n",
              "      <th>1</th>\n",
              "      <td>training</td>\n",
              "      <td>2018-09-20 02:35:36.476840</td>\n",
              "      <td>thanos::sroute:eb7bfc78-b351-4c0e-a951-fa3d5c3...</td>\n",
              "      <td>Carting</td>\n",
              "      <td>trip-153741093647649320</td>\n",
              "      <td>IND388121AAA</td>\n",
              "      <td>Anand_VUNagar_DC (Gujarat)</td>\n",
              "      <td>IND388620AAB</td>\n",
              "      <td>Khambhat_MotvdDPP_D (Gujarat)</td>\n",
              "      <td>2018-09-20 03:21:32.418600</td>\n",
              "      <td>...</td>\n",
              "      <td>Anand</td>\n",
              "      <td>VUNagar</td>\n",
              "      <td>Gujarat</td>\n",
              "      <td>Khambhat</td>\n",
              "      <td>MotvdDPP</td>\n",
              "      <td>Gujarat</td>\n",
              "      <td>0 days 01:26:12.818197</td>\n",
              "      <td>0</td>\n",
              "      <td>1.0</td>\n",
              "      <td>0.0</td>\n",
              "    </tr>\n",
              "  </tbody>\n",
              "</table>\n",
              "<p>2 rows × 32 columns</p>\n",
              "</div>\n",
              "      <button class=\"colab-df-convert\" onclick=\"convertToInteractive('df-5b97d610-1765-4b27-b7f4-0e51eee0dcac')\"\n",
              "              title=\"Convert this dataframe to an interactive table.\"\n",
              "              style=\"display:none;\">\n",
              "        \n",
              "  <svg xmlns=\"http://www.w3.org/2000/svg\" height=\"24px\"viewBox=\"0 0 24 24\"\n",
              "       width=\"24px\">\n",
              "    <path d=\"M0 0h24v24H0V0z\" fill=\"none\"/>\n",
              "    <path d=\"M18.56 5.44l.94 2.06.94-2.06 2.06-.94-2.06-.94-.94-2.06-.94 2.06-2.06.94zm-11 1L8.5 8.5l.94-2.06 2.06-.94-2.06-.94L8.5 2.5l-.94 2.06-2.06.94zm10 10l.94 2.06.94-2.06 2.06-.94-2.06-.94-.94-2.06-.94 2.06-2.06.94z\"/><path d=\"M17.41 7.96l-1.37-1.37c-.4-.4-.92-.59-1.43-.59-.52 0-1.04.2-1.43.59L10.3 9.45l-7.72 7.72c-.78.78-.78 2.05 0 2.83L4 21.41c.39.39.9.59 1.41.59.51 0 1.02-.2 1.41-.59l7.78-7.78 2.81-2.81c.8-.78.8-2.07 0-2.86zM5.41 20L4 18.59l7.72-7.72 1.47 1.35L5.41 20z\"/>\n",
              "  </svg>\n",
              "      </button>\n",
              "      \n",
              "  <style>\n",
              "    .colab-df-container {\n",
              "      display:flex;\n",
              "      flex-wrap:wrap;\n",
              "      gap: 12px;\n",
              "    }\n",
              "\n",
              "    .colab-df-convert {\n",
              "      background-color: #E8F0FE;\n",
              "      border: none;\n",
              "      border-radius: 50%;\n",
              "      cursor: pointer;\n",
              "      display: none;\n",
              "      fill: #1967D2;\n",
              "      height: 32px;\n",
              "      padding: 0 0 0 0;\n",
              "      width: 32px;\n",
              "    }\n",
              "\n",
              "    .colab-df-convert:hover {\n",
              "      background-color: #E2EBFA;\n",
              "      box-shadow: 0px 1px 2px rgba(60, 64, 67, 0.3), 0px 1px 3px 1px rgba(60, 64, 67, 0.15);\n",
              "      fill: #174EA6;\n",
              "    }\n",
              "\n",
              "    [theme=dark] .colab-df-convert {\n",
              "      background-color: #3B4455;\n",
              "      fill: #D2E3FC;\n",
              "    }\n",
              "\n",
              "    [theme=dark] .colab-df-convert:hover {\n",
              "      background-color: #434B5C;\n",
              "      box-shadow: 0px 1px 3px 1px rgba(0, 0, 0, 0.15);\n",
              "      filter: drop-shadow(0px 1px 2px rgba(0, 0, 0, 0.3));\n",
              "      fill: #FFFFFF;\n",
              "    }\n",
              "  </style>\n",
              "\n",
              "      <script>\n",
              "        const buttonEl =\n",
              "          document.querySelector('#df-5b97d610-1765-4b27-b7f4-0e51eee0dcac button.colab-df-convert');\n",
              "        buttonEl.style.display =\n",
              "          google.colab.kernel.accessAllowed ? 'block' : 'none';\n",
              "\n",
              "        async function convertToInteractive(key) {\n",
              "          const element = document.querySelector('#df-5b97d610-1765-4b27-b7f4-0e51eee0dcac');\n",
              "          const dataTable =\n",
              "            await google.colab.kernel.invokeFunction('convertToInteractive',\n",
              "                                                     [key], {});\n",
              "          if (!dataTable) return;\n",
              "\n",
              "          const docLinkHtml = 'Like what you see? Visit the ' +\n",
              "            '<a target=\"_blank\" href=https://colab.research.google.com/notebooks/data_table.ipynb>data table notebook</a>'\n",
              "            + ' to learn more about interactive tables.';\n",
              "          element.innerHTML = '';\n",
              "          dataTable['output_type'] = 'display_data';\n",
              "          await google.colab.output.renderOutput(dataTable, element);\n",
              "          const docLink = document.createElement('div');\n",
              "          docLink.innerHTML = docLinkHtml;\n",
              "          element.appendChild(docLink);\n",
              "        }\n",
              "      </script>\n",
              "    </div>\n",
              "  </div>\n",
              "  "
            ]
          },
          "metadata": {},
          "execution_count": 155
        }
      ]
    },
    {
      "cell_type": "markdown",
      "source": [
        "**Normalize/ Standardize the numerical features using MinMaxScaler**"
      ],
      "metadata": {
        "id": "KsNcHxf93hEl"
      }
    },
    {
      "cell_type": "code",
      "source": [
        "df_min_max_scaled = data.copy(deep = True)"
      ],
      "metadata": {
        "id": "fr9YQDpk318C"
      },
      "execution_count": null,
      "outputs": []
    },
    {
      "cell_type": "code",
      "source": [
        "column = ['actual_distance_to_destination','osrm_distance','segment_osrm_distance']\n",
        "for i in column :\n",
        "  df_min_max_scaled[column] = round((df_min_max_scaled[column] - df_min_max_scaled[column].min()) / (df_min_max_scaled[column].max() - df_min_max_scaled[column].min()),4) \n"
      ],
      "metadata": {
        "id": "-NY9QN4v4xv-"
      },
      "execution_count": null,
      "outputs": []
    }
  ]
}